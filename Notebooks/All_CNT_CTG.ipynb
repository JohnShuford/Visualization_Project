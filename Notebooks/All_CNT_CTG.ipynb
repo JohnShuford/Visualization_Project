{
 "cells": [
  {
   "cell_type": "code",
   "execution_count": 1,
   "metadata": {},
   "outputs": [],
   "source": [
    "# Magic Function for graphs/displays\n",
    "%matplotlib inline\n",
    "#!pip install bar_chart_race\n",
    "\n",
    "# Importing our Dependencies\n",
    "import matplotlib.pyplot as plt\n",
    "import matplotlib as mpl\n",
    "import seaborn as sns\n",
    "import pandas as pd\n",
    "import numpy as np\n",
    "import json\n",
    "import time\n",
    "import os\n",
    "import requests\n",
    "import pandas as pd\n",
    "import scipy.stats as st\n",
    "import gmaps\n",
    "from scipy.stats import linregress\n",
    "from scipy import stats\n",
    "#from config import g_key\n",
    "from pprint import pprint\n",
    "\n",
    "\n",
    "# Hide warning messages in notebook\n",
    "import warnings\n",
    "warnings.filterwarnings(\"ignore\")"
   ]
  },
  {
   "cell_type": "code",
   "execution_count": 2,
   "metadata": {},
   "outputs": [],
   "source": [
    "# LOAD/READ all CSV files\n",
    "CA_Data = pd.read_csv(\"../Bubble_Chart/data/ca_cat_data.csv\")\n",
    "DE_Data = pd.read_csv(\"../Bubble_Chart/data/de_cat_data.csv\")\n",
    "FR_Data = pd.read_csv(\"../Bubble_Chart/data/fr_cat_data.csv\")\n",
    "GB_Data = pd.read_csv(\"../Bubble_Chart/data/gb_cat_data.csv\")\n",
    "IN_Data = pd.read_csv(\"../Bubble_Chart/data/in_cat_data.csv\")\n",
    "JP_Data = pd.read_csv(\"../Bubble_Chart/data/jp_cat_data.csv\")\n",
    "KR_Data = pd.read_csv(\"../Bubble_Chart/data/kr_cat_data.csv\")\n",
    "MX_Data = pd.read_csv(\"../Bubble_Chart/data/mx_cat_data.csv\")\n",
    "RU_Data = pd.read_csv(\"../Bubble_Chart/data/ru_cat_data.csv\")\n",
    "US_Data = pd.read_csv(\"../Bubble_Chart/data/us_cat_data.csv\")"
   ]
  },
  {
   "cell_type": "code",
   "execution_count": 3,
   "metadata": {},
   "outputs": [],
   "source": [
    "# ADD a new column for each country with country name\n",
    "country = \"CANADA\"\n",
    "CA_Data['Country'] = country\n",
    "\n",
    "country = \"DENMARK\"\n",
    "DE_Data['Country'] = country\n",
    "\n",
    "country = \"FRANCE\"\n",
    "FR_Data['Country'] = country\n",
    "\n",
    "country = \"GREAT BRITAIN\"\n",
    "GB_Data['Country'] = country\n",
    "\n",
    "country = \"INDIA\"\n",
    "IN_Data['Country'] = country\n",
    "\n",
    "country = \"JAPAN\"\n",
    "JP_Data['Country'] = country\n",
    "\n",
    "country = \"KOREA\"\n",
    "KR_Data['Country'] = country\n",
    "\n",
    "country = \"MEXICO\"\n",
    "MX_Data['Country'] = country\n",
    "\n",
    "country = \"RUSSIA\"\n",
    "RU_Data['Country'] = country\n",
    "\n",
    "country = \"U.S.A\"\n",
    "US_Data['Country'] = country"
   ]
  },
  {
   "cell_type": "code",
   "execution_count": 4,
   "metadata": {},
   "outputs": [
    {
     "data": {
      "text/html": [
       "<div>\n",
       "<style scoped>\n",
       "    .dataframe tbody tr th:only-of-type {\n",
       "        vertical-align: middle;\n",
       "    }\n",
       "\n",
       "    .dataframe tbody tr th {\n",
       "        vertical-align: top;\n",
       "    }\n",
       "\n",
       "    .dataframe thead th {\n",
       "        text-align: right;\n",
       "    }\n",
       "</style>\n",
       "<table border=\"1\" class=\"dataframe\">\n",
       "  <thead>\n",
       "    <tr style=\"text-align: right;\">\n",
       "      <th></th>\n",
       "      <th>Unnamed: 0</th>\n",
       "      <th>channel_title</th>\n",
       "      <th>no_of_vids</th>\n",
       "      <th>trending_date</th>\n",
       "      <th>title</th>\n",
       "      <th>category_id</th>\n",
       "      <th>publish_time</th>\n",
       "      <th>views</th>\n",
       "      <th>likes</th>\n",
       "      <th>dislikes</th>\n",
       "      <th>comment_count</th>\n",
       "      <th>comments_disabled</th>\n",
       "      <th>Unnamed: 0.1</th>\n",
       "      <th>Category_name</th>\n",
       "      <th>Country</th>\n",
       "    </tr>\n",
       "  </thead>\n",
       "  <tbody>\n",
       "    <tr>\n",
       "      <td>0</td>\n",
       "      <td>0</td>\n",
       "      <td>SET India</td>\n",
       "      <td>192</td>\n",
       "      <td>17.14.11</td>\n",
       "      <td>Crime Patrol Dial 100 - क्राइम पेट्रोल - Ep 65...</td>\n",
       "      <td>24</td>\n",
       "      <td>2017-11-12T15:34:31.000Z</td>\n",
       "      <td>210478</td>\n",
       "      <td>905</td>\n",
       "      <td>176</td>\n",
       "      <td>85</td>\n",
       "      <td>False</td>\n",
       "      <td>11</td>\n",
       "      <td>Entertainment</td>\n",
       "      <td>CANADA</td>\n",
       "    </tr>\n",
       "    <tr>\n",
       "      <td>1</td>\n",
       "      <td>1</td>\n",
       "      <td>MSNBC</td>\n",
       "      <td>189</td>\n",
       "      <td>17.14.11</td>\n",
       "      <td>Barnicle: World Leaders Are Laughing At The US...</td>\n",
       "      <td>25</td>\n",
       "      <td>2017-11-13T14:53:22.000Z</td>\n",
       "      <td>200264</td>\n",
       "      <td>2947</td>\n",
       "      <td>317</td>\n",
       "      <td>2321</td>\n",
       "      <td>False</td>\n",
       "      <td>12</td>\n",
       "      <td>News &amp; Politics</td>\n",
       "      <td>CANADA</td>\n",
       "    </tr>\n",
       "    <tr>\n",
       "      <td>2</td>\n",
       "      <td>2</td>\n",
       "      <td>FBE</td>\n",
       "      <td>188</td>\n",
       "      <td>17.14.11</td>\n",
       "      <td>YOUTUBERS REACT TO TOP 10 TWITTER ACCOUNTS OF ...</td>\n",
       "      <td>24</td>\n",
       "      <td>2017-11-12T22:00:01.000Z</td>\n",
       "      <td>960747</td>\n",
       "      <td>31810</td>\n",
       "      <td>668</td>\n",
       "      <td>5335</td>\n",
       "      <td>False</td>\n",
       "      <td>11</td>\n",
       "      <td>Entertainment</td>\n",
       "      <td>CANADA</td>\n",
       "    </tr>\n",
       "    <tr>\n",
       "      <td>3</td>\n",
       "      <td>3</td>\n",
       "      <td>The Young Turks</td>\n",
       "      <td>186</td>\n",
       "      <td>17.14.11</td>\n",
       "      <td>The Alt-Right Is Crushing On Taylor Swift</td>\n",
       "      <td>25</td>\n",
       "      <td>2017-11-13T02:00:00.000Z</td>\n",
       "      <td>100394</td>\n",
       "      <td>1619</td>\n",
       "      <td>907</td>\n",
       "      <td>1595</td>\n",
       "      <td>False</td>\n",
       "      <td>12</td>\n",
       "      <td>News &amp; Politics</td>\n",
       "      <td>CANADA</td>\n",
       "    </tr>\n",
       "    <tr>\n",
       "      <td>4</td>\n",
       "      <td>4</td>\n",
       "      <td>REACT</td>\n",
       "      <td>183</td>\n",
       "      <td>17.14.11</td>\n",
       "      <td>DO COLLEGE KIDS KNOW 80s MUSIC? #8 (REACT: Do ...</td>\n",
       "      <td>24</td>\n",
       "      <td>2017-11-12T20:00:01.000Z</td>\n",
       "      <td>549374</td>\n",
       "      <td>16832</td>\n",
       "      <td>248</td>\n",
       "      <td>3579</td>\n",
       "      <td>False</td>\n",
       "      <td>11</td>\n",
       "      <td>Entertainment</td>\n",
       "      <td>CANADA</td>\n",
       "    </tr>\n",
       "  </tbody>\n",
       "</table>\n",
       "</div>"
      ],
      "text/plain": [
       "   Unnamed: 0    channel_title  no_of_vids trending_date  \\\n",
       "0           0        SET India         192      17.14.11   \n",
       "1           1            MSNBC         189      17.14.11   \n",
       "2           2              FBE         188      17.14.11   \n",
       "3           3  The Young Turks         186      17.14.11   \n",
       "4           4            REACT         183      17.14.11   \n",
       "\n",
       "                                               title  category_id  \\\n",
       "0  Crime Patrol Dial 100 - क्राइम पेट्रोल - Ep 65...           24   \n",
       "1  Barnicle: World Leaders Are Laughing At The US...           25   \n",
       "2  YOUTUBERS REACT TO TOP 10 TWITTER ACCOUNTS OF ...           24   \n",
       "3          The Alt-Right Is Crushing On Taylor Swift           25   \n",
       "4  DO COLLEGE KIDS KNOW 80s MUSIC? #8 (REACT: Do ...           24   \n",
       "\n",
       "               publish_time   views  likes  dislikes  comment_count  \\\n",
       "0  2017-11-12T15:34:31.000Z  210478    905       176             85   \n",
       "1  2017-11-13T14:53:22.000Z  200264   2947       317           2321   \n",
       "2  2017-11-12T22:00:01.000Z  960747  31810       668           5335   \n",
       "3  2017-11-13T02:00:00.000Z  100394   1619       907           1595   \n",
       "4  2017-11-12T20:00:01.000Z  549374  16832       248           3579   \n",
       "\n",
       "   comments_disabled  Unnamed: 0.1    Category_name Country  \n",
       "0              False            11    Entertainment  CANADA  \n",
       "1              False            12  News & Politics  CANADA  \n",
       "2              False            11    Entertainment  CANADA  \n",
       "3              False            12  News & Politics  CANADA  \n",
       "4              False            11    Entertainment  CANADA  "
      ]
     },
     "execution_count": 4,
     "metadata": {},
     "output_type": "execute_result"
    }
   ],
   "source": [
    "# MERGE DATAFRAMES with rows\n",
    "frames = [CA_Data, DE_Data, FR_Data, GB_Data, IN_Data, JP_Data, KR_Data, MX_Data, RU_Data, US_Data]\n",
    "\n",
    "result = pd.concat(frames)\n",
    "result.head()"
   ]
  },
  {
   "cell_type": "code",
   "execution_count": 7,
   "metadata": {},
   "outputs": [
    {
     "data": {
      "text/plain": [
       "Country\n",
       "CANADA           2707881149\n",
       "DENMARK          2545047594\n",
       "FRANCE           1962838695\n",
       "GREAT BRITAIN    2122672331\n",
       "INDIA             660816013\n",
       "JAPAN             863400056\n",
       "KOREA            1255061024\n",
       "MEXICO           1529353706\n",
       "RUSSIA           1155558365\n",
       "U.S.A            1370730670\n",
       "Name: views, dtype: int64"
      ]
     },
     "execution_count": 7,
     "metadata": {},
     "output_type": "execute_result"
    }
   ],
   "source": [
    "grouped = result.groupby('Country')\n",
    "grouped['views'].agg(np.sum)"
   ]
  },
  {
   "cell_type": "code",
   "execution_count": 104,
   "metadata": {},
   "outputs": [
    {
     "data": {
      "text/plain": [
       "0       171411\n",
       "1       171411\n",
       "2       171411\n",
       "3       171411\n",
       "4       171411\n",
       "         ...  \n",
       "2202    182401\n",
       "2203    172011\n",
       "2204    181402\n",
       "2205    171511\n",
       "2206    172311\n",
       "Name: trending_date, Length: 45699, dtype: int32"
      ]
     },
     "execution_count": 104,
     "metadata": {},
     "output_type": "execute_result"
    }
   ],
   "source": [
    "#result['publish_time'].astype(str).astype(int)\n",
    "#result['trending_date'].str.replace(\"-\",\"\")\n",
    "result['trending_date'].str.replace(\".\",\"\").astype(int)\n"
   ]
  },
  {
   "cell_type": "code",
   "execution_count": 105,
   "metadata": {},
   "outputs": [
    {
     "name": "stdout",
     "output_type": "stream",
     "text": [
      "<class 'pandas.core.frame.DataFrame'>\n",
      "Int64Index: 45699 entries, 0 to 2206\n",
      "Data columns (total 15 columns):\n",
      "Unnamed: 0           45699 non-null int64\n",
      "channel_title        45699 non-null object\n",
      "no_of_vids           45699 non-null int64\n",
      "trending_date        45699 non-null object\n",
      "title                45699 non-null object\n",
      "category_id          45699 non-null int64\n",
      "publish_time         45699 non-null object\n",
      "views                45699 non-null int64\n",
      "likes                45699 non-null int64\n",
      "dislikes             45699 non-null int64\n",
      "comment_count        45699 non-null int64\n",
      "comments_disabled    45699 non-null bool\n",
      "Unnamed: 0.1         45699 non-null int64\n",
      "Category_name        45699 non-null object\n",
      "Country              45699 non-null object\n",
      "dtypes: bool(1), int64(8), object(6)\n",
      "memory usage: 5.3+ MB\n"
     ]
    }
   ],
   "source": [
    "result.info()"
   ]
  },
  {
   "cell_type": "code",
   "execution_count": 106,
   "metadata": {
    "scrolled": true
   },
   "outputs": [],
   "source": [
    "# DROP UN-Wanted/UN-neccessary Columns\n",
    "result.drop(columns=['Unnamed: 0', 'comments_disabled','Unnamed: 0.1'], inplace = True)"
   ]
  },
  {
   "cell_type": "code",
   "execution_count": 107,
   "metadata": {},
   "outputs": [
    {
     "name": "stdout",
     "output_type": "stream",
     "text": [
      "<class 'pandas.core.frame.DataFrame'>\n",
      "Int64Index: 45699 entries, 0 to 2206\n",
      "Data columns (total 12 columns):\n",
      "channel_title    45699 non-null object\n",
      "no_of_vids       45699 non-null int64\n",
      "trending_date    45699 non-null object\n",
      "title            45699 non-null object\n",
      "category_id      45699 non-null int64\n",
      "publish_time     45699 non-null object\n",
      "views            45699 non-null int64\n",
      "likes            45699 non-null int64\n",
      "dislikes         45699 non-null int64\n",
      "comment_count    45699 non-null int64\n",
      "Category_name    45699 non-null object\n",
      "Country          45699 non-null object\n",
      "dtypes: int64(6), object(6)\n",
      "memory usage: 4.5+ MB\n"
     ]
    }
   ],
   "source": [
    "result.info()"
   ]
  },
  {
   "cell_type": "code",
   "execution_count": 118,
   "metadata": {},
   "outputs": [],
   "source": [
    "#result['publish_time'].astype(str).astype(int)\n",
    "#result['trending_date'].str.replace(\"-\",\"\")\n",
    "# final_result = result['trending_date'].str.replace(\".\",\"\").astype(int)\n",
    "\n",
    "# final_result = result['trending_date'].astype(str).astype(int)\n",
    "# final_result.head()\n",
    "\n",
    "result['trending_date']=result['trending_date'].str.replace('.','').apply(int)"
   ]
  },
  {
   "cell_type": "code",
   "execution_count": 119,
   "metadata": {},
   "outputs": [],
   "source": [
    "# Export DataFrame & Save DataFrame to a .CSV\n",
    "result.to_csv('../Bubble_Chart/data/fereshtehTesting.csv')"
   ]
  },
  {
   "cell_type": "code",
   "execution_count": null,
   "metadata": {},
   "outputs": [],
   "source": []
  },
  {
   "cell_type": "code",
   "execution_count": null,
   "metadata": {},
   "outputs": [],
   "source": []
  }
 ],
 "metadata": {
  "kernelspec": {
   "display_name": "Python 3",
   "language": "python",
   "name": "python3"
  },
  "language_info": {
   "codemirror_mode": {
    "name": "ipython",
    "version": 3
   },
   "file_extension": ".py",
   "mimetype": "text/x-python",
   "name": "python",
   "nbconvert_exporter": "python",
   "pygments_lexer": "ipython3",
   "version": "3.7.4"
  }
 },
 "nbformat": 4,
 "nbformat_minor": 2
}
