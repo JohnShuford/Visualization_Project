{
 "cells": [
  {
   "cell_type": "code",
   "execution_count": 64,
   "metadata": {},
   "outputs": [],
   "source": [
    "# Magic Function for graphs/displays\n",
    "%matplotlib inline\n",
    "#!pip install bar_chart_race\n",
    "\n",
    "# Importing our Dependencies\n",
    "import matplotlib.pyplot as plt\n",
    "import matplotlib as mpl\n",
    "import seaborn as sns\n",
    "import pandas as pd\n",
    "import numpy as np\n",
    "import json\n",
    "import time\n",
    "import os\n",
    "import requests\n",
    "import pandas as pd\n",
    "import scipy.stats as st\n",
    "import gmaps\n",
    "from scipy.stats import linregress\n",
    "from scipy import stats\n",
    "#from config import g_key\n",
    "from pprint import pprint\n",
    "\n",
    "\n",
    "# Hide warning messages in notebook\n",
    "import warnings\n",
    "warnings.filterwarnings(\"ignore\")"
   ]
  },
  {
   "cell_type": "code",
   "execution_count": 65,
   "metadata": {},
   "outputs": [],
   "source": [
    "# LOAD/READ all CSV files\n",
    "CA_Data = pd.read_csv(\"../VisualizationSite_Final/data/bubble_chart_data/ca_cat_data.csv\")\n",
    "DE_Data = pd.read_csv(\"../VisualizationSite_Final/data/bubble_chart_data/de_cat_data.csv\")\n",
    "FR_Data = pd.read_csv(\"../VisualizationSite_Final/data/bubble_chart_data/fr_cat_data.csv\")\n",
    "GB_Data = pd.read_csv(\"../VisualizationSite_Final/data/bubble_chart_data/gb_cat_data.csv\")\n",
    "IN_Data = pd.read_csv(\"../VisualizationSite_Final/data/bubble_chart_data/in_cat_data.csv\")\n",
    "JP_Data = pd.read_csv(\"../VisualizationSite_Final/data/bubble_chart_data/jp_cat_data.csv\")\n",
    "KR_Data = pd.read_csv(\"../VisualizationSite_Final/data/bubble_chart_data/kr_cat_data.csv\")\n",
    "MX_Data = pd.read_csv(\"../VisualizationSite_Final/data/bubble_chart_data/mx_cat_data.csv\")\n",
    "RU_Data = pd.read_csv(\"../VisualizationSite_Final/data/bubble_chart_data/ru_cat_data.csv\")\n",
    "US_Data = pd.read_csv(\"../VisualizationSite_Final/data/bubble_chart_data/us_cat_data.csv\")"
   ]
  },
  {
   "cell_type": "code",
   "execution_count": 66,
   "metadata": {},
   "outputs": [],
   "source": [
    "# ADD a new column for each country with country name\n",
    "country = \"CANADA\"\n",
    "CA_Data['Country'] = country\n",
    "\n",
    "country = \"DENMARK\"\n",
    "DE_Data['Country'] = country\n",
    "\n",
    "country = \"FRANCE\"\n",
    "FR_Data['Country'] = country\n",
    "\n",
    "country = \"GREAT BRITAIN\"\n",
    "GB_Data['Country'] = country\n",
    "\n",
    "country = \"INDIA\"\n",
    "IN_Data['Country'] = country\n",
    "\n",
    "country = \"JAPAN\"\n",
    "JP_Data['Country'] = country\n",
    "\n",
    "country = \"KOREA\"\n",
    "KR_Data['Country'] = country\n",
    "\n",
    "country = \"MEXICO\"\n",
    "MX_Data['Country'] = country\n",
    "\n",
    "country = \"RUSSIA\"\n",
    "RU_Data['Country'] = country\n",
    "\n",
    "country = \"U.S.A\"\n",
    "US_Data['Country'] = country"
   ]
  },
  {
   "cell_type": "code",
   "execution_count": 67,
   "metadata": {},
   "outputs": [
    {
     "data": {
      "text/html": [
       "<div>\n",
       "<style scoped>\n",
       "    .dataframe tbody tr th:only-of-type {\n",
       "        vertical-align: middle;\n",
       "    }\n",
       "\n",
       "    .dataframe tbody tr th {\n",
       "        vertical-align: top;\n",
       "    }\n",
       "\n",
       "    .dataframe thead th {\n",
       "        text-align: right;\n",
       "    }\n",
       "</style>\n",
       "<table border=\"1\" class=\"dataframe\">\n",
       "  <thead>\n",
       "    <tr style=\"text-align: right;\">\n",
       "      <th></th>\n",
       "      <th>Unnamed: 0</th>\n",
       "      <th>channel_title</th>\n",
       "      <th>no_of_vids</th>\n",
       "      <th>trending_date</th>\n",
       "      <th>title</th>\n",
       "      <th>category_id</th>\n",
       "      <th>publish_time</th>\n",
       "      <th>views</th>\n",
       "      <th>likes</th>\n",
       "      <th>dislikes</th>\n",
       "      <th>comment_count</th>\n",
       "      <th>comments_disabled</th>\n",
       "      <th>Unnamed: 0.1</th>\n",
       "      <th>Category_name</th>\n",
       "      <th>Country</th>\n",
       "    </tr>\n",
       "  </thead>\n",
       "  <tbody>\n",
       "    <tr>\n",
       "      <td>0</td>\n",
       "      <td>0</td>\n",
       "      <td>SET India</td>\n",
       "      <td>192</td>\n",
       "      <td>17.14.11</td>\n",
       "      <td>Crime Patrol Dial 100 - क्राइम पेट्रोल - Ep 65...</td>\n",
       "      <td>24</td>\n",
       "      <td>2017-11-12T15:34:31.000Z</td>\n",
       "      <td>210478</td>\n",
       "      <td>905</td>\n",
       "      <td>176</td>\n",
       "      <td>85</td>\n",
       "      <td>False</td>\n",
       "      <td>11</td>\n",
       "      <td>Entertainment</td>\n",
       "      <td>CANADA</td>\n",
       "    </tr>\n",
       "    <tr>\n",
       "      <td>1</td>\n",
       "      <td>1</td>\n",
       "      <td>MSNBC</td>\n",
       "      <td>189</td>\n",
       "      <td>17.14.11</td>\n",
       "      <td>Barnicle: World Leaders Are Laughing At The US...</td>\n",
       "      <td>25</td>\n",
       "      <td>2017-11-13T14:53:22.000Z</td>\n",
       "      <td>200264</td>\n",
       "      <td>2947</td>\n",
       "      <td>317</td>\n",
       "      <td>2321</td>\n",
       "      <td>False</td>\n",
       "      <td>12</td>\n",
       "      <td>News &amp; Politics</td>\n",
       "      <td>CANADA</td>\n",
       "    </tr>\n",
       "    <tr>\n",
       "      <td>2</td>\n",
       "      <td>2</td>\n",
       "      <td>FBE</td>\n",
       "      <td>188</td>\n",
       "      <td>17.14.11</td>\n",
       "      <td>YOUTUBERS REACT TO TOP 10 TWITTER ACCOUNTS OF ...</td>\n",
       "      <td>24</td>\n",
       "      <td>2017-11-12T22:00:01.000Z</td>\n",
       "      <td>960747</td>\n",
       "      <td>31810</td>\n",
       "      <td>668</td>\n",
       "      <td>5335</td>\n",
       "      <td>False</td>\n",
       "      <td>11</td>\n",
       "      <td>Entertainment</td>\n",
       "      <td>CANADA</td>\n",
       "    </tr>\n",
       "    <tr>\n",
       "      <td>3</td>\n",
       "      <td>3</td>\n",
       "      <td>The Young Turks</td>\n",
       "      <td>186</td>\n",
       "      <td>17.14.11</td>\n",
       "      <td>The Alt-Right Is Crushing On Taylor Swift</td>\n",
       "      <td>25</td>\n",
       "      <td>2017-11-13T02:00:00.000Z</td>\n",
       "      <td>100394</td>\n",
       "      <td>1619</td>\n",
       "      <td>907</td>\n",
       "      <td>1595</td>\n",
       "      <td>False</td>\n",
       "      <td>12</td>\n",
       "      <td>News &amp; Politics</td>\n",
       "      <td>CANADA</td>\n",
       "    </tr>\n",
       "    <tr>\n",
       "      <td>4</td>\n",
       "      <td>4</td>\n",
       "      <td>REACT</td>\n",
       "      <td>183</td>\n",
       "      <td>17.14.11</td>\n",
       "      <td>DO COLLEGE KIDS KNOW 80s MUSIC? #8 (REACT: Do ...</td>\n",
       "      <td>24</td>\n",
       "      <td>2017-11-12T20:00:01.000Z</td>\n",
       "      <td>549374</td>\n",
       "      <td>16832</td>\n",
       "      <td>248</td>\n",
       "      <td>3579</td>\n",
       "      <td>False</td>\n",
       "      <td>11</td>\n",
       "      <td>Entertainment</td>\n",
       "      <td>CANADA</td>\n",
       "    </tr>\n",
       "  </tbody>\n",
       "</table>\n",
       "</div>"
      ],
      "text/plain": [
       "   Unnamed: 0    channel_title  no_of_vids trending_date  \\\n",
       "0           0        SET India         192      17.14.11   \n",
       "1           1            MSNBC         189      17.14.11   \n",
       "2           2              FBE         188      17.14.11   \n",
       "3           3  The Young Turks         186      17.14.11   \n",
       "4           4            REACT         183      17.14.11   \n",
       "\n",
       "                                               title  category_id  \\\n",
       "0  Crime Patrol Dial 100 - क्राइम पेट्रोल - Ep 65...           24   \n",
       "1  Barnicle: World Leaders Are Laughing At The US...           25   \n",
       "2  YOUTUBERS REACT TO TOP 10 TWITTER ACCOUNTS OF ...           24   \n",
       "3          The Alt-Right Is Crushing On Taylor Swift           25   \n",
       "4  DO COLLEGE KIDS KNOW 80s MUSIC? #8 (REACT: Do ...           24   \n",
       "\n",
       "               publish_time   views  likes  dislikes  comment_count  \\\n",
       "0  2017-11-12T15:34:31.000Z  210478    905       176             85   \n",
       "1  2017-11-13T14:53:22.000Z  200264   2947       317           2321   \n",
       "2  2017-11-12T22:00:01.000Z  960747  31810       668           5335   \n",
       "3  2017-11-13T02:00:00.000Z  100394   1619       907           1595   \n",
       "4  2017-11-12T20:00:01.000Z  549374  16832       248           3579   \n",
       "\n",
       "   comments_disabled  Unnamed: 0.1    Category_name Country  \n",
       "0              False            11    Entertainment  CANADA  \n",
       "1              False            12  News & Politics  CANADA  \n",
       "2              False            11    Entertainment  CANADA  \n",
       "3              False            12  News & Politics  CANADA  \n",
       "4              False            11    Entertainment  CANADA  "
      ]
     },
     "execution_count": 67,
     "metadata": {},
     "output_type": "execute_result"
    }
   ],
   "source": [
    "# MERGE DATAFRAMES with rows\n",
    "frames = [CA_Data, DE_Data, FR_Data, GB_Data, IN_Data, JP_Data, KR_Data, MX_Data, RU_Data, US_Data]\n",
    "\n",
    "result = pd.concat(frames)\n",
    "result.head()"
   ]
  },
  {
   "cell_type": "code",
   "execution_count": 68,
   "metadata": {},
   "outputs": [],
   "source": [
    "result.drop(columns = \"Unnamed: 0\", inplace = True)\n"
   ]
  },
  {
   "cell_type": "code",
   "execution_count": 69,
   "metadata": {},
   "outputs": [
    {
     "data": {
      "text/html": [
       "<div>\n",
       "<style scoped>\n",
       "    .dataframe tbody tr th:only-of-type {\n",
       "        vertical-align: middle;\n",
       "    }\n",
       "\n",
       "    .dataframe tbody tr th {\n",
       "        vertical-align: top;\n",
       "    }\n",
       "\n",
       "    .dataframe thead th {\n",
       "        text-align: right;\n",
       "    }\n",
       "</style>\n",
       "<table border=\"1\" class=\"dataframe\">\n",
       "  <thead>\n",
       "    <tr style=\"text-align: right;\">\n",
       "      <th></th>\n",
       "      <th>channel_title</th>\n",
       "      <th>no_of_vids</th>\n",
       "      <th>trending_date</th>\n",
       "      <th>title</th>\n",
       "      <th>category_id</th>\n",
       "      <th>publish_time</th>\n",
       "      <th>views</th>\n",
       "      <th>likes</th>\n",
       "      <th>dislikes</th>\n",
       "      <th>comment_count</th>\n",
       "      <th>comments_disabled</th>\n",
       "      <th>Unnamed: 0.1</th>\n",
       "      <th>Category_name</th>\n",
       "      <th>Country</th>\n",
       "    </tr>\n",
       "  </thead>\n",
       "  <tbody>\n",
       "    <tr>\n",
       "      <td>0</td>\n",
       "      <td>SET India</td>\n",
       "      <td>192</td>\n",
       "      <td>17.14.11</td>\n",
       "      <td>Crime Patrol Dial 100 - क्राइम पेट्रोल - Ep 65...</td>\n",
       "      <td>24</td>\n",
       "      <td>2017-11-12T15:34:31.000Z</td>\n",
       "      <td>210478</td>\n",
       "      <td>905</td>\n",
       "      <td>176</td>\n",
       "      <td>85</td>\n",
       "      <td>False</td>\n",
       "      <td>11</td>\n",
       "      <td>Entertainment</td>\n",
       "      <td>CANADA</td>\n",
       "    </tr>\n",
       "    <tr>\n",
       "      <td>1</td>\n",
       "      <td>MSNBC</td>\n",
       "      <td>189</td>\n",
       "      <td>17.14.11</td>\n",
       "      <td>Barnicle: World Leaders Are Laughing At The US...</td>\n",
       "      <td>25</td>\n",
       "      <td>2017-11-13T14:53:22.000Z</td>\n",
       "      <td>200264</td>\n",
       "      <td>2947</td>\n",
       "      <td>317</td>\n",
       "      <td>2321</td>\n",
       "      <td>False</td>\n",
       "      <td>12</td>\n",
       "      <td>News &amp; Politics</td>\n",
       "      <td>CANADA</td>\n",
       "    </tr>\n",
       "    <tr>\n",
       "      <td>2</td>\n",
       "      <td>FBE</td>\n",
       "      <td>188</td>\n",
       "      <td>17.14.11</td>\n",
       "      <td>YOUTUBERS REACT TO TOP 10 TWITTER ACCOUNTS OF ...</td>\n",
       "      <td>24</td>\n",
       "      <td>2017-11-12T22:00:01.000Z</td>\n",
       "      <td>960747</td>\n",
       "      <td>31810</td>\n",
       "      <td>668</td>\n",
       "      <td>5335</td>\n",
       "      <td>False</td>\n",
       "      <td>11</td>\n",
       "      <td>Entertainment</td>\n",
       "      <td>CANADA</td>\n",
       "    </tr>\n",
       "    <tr>\n",
       "      <td>3</td>\n",
       "      <td>The Young Turks</td>\n",
       "      <td>186</td>\n",
       "      <td>17.14.11</td>\n",
       "      <td>The Alt-Right Is Crushing On Taylor Swift</td>\n",
       "      <td>25</td>\n",
       "      <td>2017-11-13T02:00:00.000Z</td>\n",
       "      <td>100394</td>\n",
       "      <td>1619</td>\n",
       "      <td>907</td>\n",
       "      <td>1595</td>\n",
       "      <td>False</td>\n",
       "      <td>12</td>\n",
       "      <td>News &amp; Politics</td>\n",
       "      <td>CANADA</td>\n",
       "    </tr>\n",
       "    <tr>\n",
       "      <td>4</td>\n",
       "      <td>REACT</td>\n",
       "      <td>183</td>\n",
       "      <td>17.14.11</td>\n",
       "      <td>DO COLLEGE KIDS KNOW 80s MUSIC? #8 (REACT: Do ...</td>\n",
       "      <td>24</td>\n",
       "      <td>2017-11-12T20:00:01.000Z</td>\n",
       "      <td>549374</td>\n",
       "      <td>16832</td>\n",
       "      <td>248</td>\n",
       "      <td>3579</td>\n",
       "      <td>False</td>\n",
       "      <td>11</td>\n",
       "      <td>Entertainment</td>\n",
       "      <td>CANADA</td>\n",
       "    </tr>\n",
       "  </tbody>\n",
       "</table>\n",
       "</div>"
      ],
      "text/plain": [
       "     channel_title  no_of_vids trending_date  \\\n",
       "0        SET India         192      17.14.11   \n",
       "1            MSNBC         189      17.14.11   \n",
       "2              FBE         188      17.14.11   \n",
       "3  The Young Turks         186      17.14.11   \n",
       "4            REACT         183      17.14.11   \n",
       "\n",
       "                                               title  category_id  \\\n",
       "0  Crime Patrol Dial 100 - क्राइम पेट्रोल - Ep 65...           24   \n",
       "1  Barnicle: World Leaders Are Laughing At The US...           25   \n",
       "2  YOUTUBERS REACT TO TOP 10 TWITTER ACCOUNTS OF ...           24   \n",
       "3          The Alt-Right Is Crushing On Taylor Swift           25   \n",
       "4  DO COLLEGE KIDS KNOW 80s MUSIC? #8 (REACT: Do ...           24   \n",
       "\n",
       "               publish_time   views  likes  dislikes  comment_count  \\\n",
       "0  2017-11-12T15:34:31.000Z  210478    905       176             85   \n",
       "1  2017-11-13T14:53:22.000Z  200264   2947       317           2321   \n",
       "2  2017-11-12T22:00:01.000Z  960747  31810       668           5335   \n",
       "3  2017-11-13T02:00:00.000Z  100394   1619       907           1595   \n",
       "4  2017-11-12T20:00:01.000Z  549374  16832       248           3579   \n",
       "\n",
       "   comments_disabled  Unnamed: 0.1    Category_name Country  \n",
       "0              False            11    Entertainment  CANADA  \n",
       "1              False            12  News & Politics  CANADA  \n",
       "2              False            11    Entertainment  CANADA  \n",
       "3              False            12  News & Politics  CANADA  \n",
       "4              False            11    Entertainment  CANADA  "
      ]
     },
     "execution_count": 69,
     "metadata": {},
     "output_type": "execute_result"
    }
   ],
   "source": [
    "result.head()"
   ]
  },
  {
   "cell_type": "code",
   "execution_count": 70,
   "metadata": {},
   "outputs": [
    {
     "data": {
      "text/plain": [
       "channel_title        object\n",
       "no_of_vids            int64\n",
       "trending_date        object\n",
       "title                object\n",
       "category_id           int64\n",
       "publish_time         object\n",
       "views                 int64\n",
       "likes                 int64\n",
       "dislikes              int64\n",
       "comment_count         int64\n",
       "comments_disabled      bool\n",
       "Unnamed: 0.1          int64\n",
       "Category_name        object\n",
       "Country              object\n",
       "dtype: object"
      ]
     },
     "execution_count": 70,
     "metadata": {},
     "output_type": "execute_result"
    }
   ],
   "source": [
    "result.dtypes"
   ]
  },
  {
   "cell_type": "code",
   "execution_count": 71,
   "metadata": {},
   "outputs": [],
   "source": [
    "result.reset_index(inplace = True)"
   ]
  },
  {
   "cell_type": "code",
   "execution_count": 72,
   "metadata": {},
   "outputs": [
    {
     "data": {
      "text/plain": [
       "Index(['index', 'channel_title', 'no_of_vids', 'trending_date', 'title',\n",
       "       'category_id', 'publish_time', 'views', 'likes', 'dislikes',\n",
       "       'comment_count', 'comments_disabled', 'Unnamed: 0.1', 'Category_name',\n",
       "       'Country'],\n",
       "      dtype='object')"
      ]
     },
     "execution_count": 72,
     "metadata": {},
     "output_type": "execute_result"
    }
   ],
   "source": [
    "result.columns"
   ]
  },
  {
   "cell_type": "code",
   "execution_count": 73,
   "metadata": {},
   "outputs": [],
   "source": [
    "result.drop(columns = \"Unnamed: 0.1\", inplace=True)"
   ]
  },
  {
   "cell_type": "code",
   "execution_count": 74,
   "metadata": {},
   "outputs": [
    {
     "data": {
      "text/plain": [
       "Country\n",
       "CANADA           2707881149\n",
       "DENMARK          2545047594\n",
       "FRANCE           1962838695\n",
       "GREAT BRITAIN    2122672331\n",
       "INDIA             660816013\n",
       "JAPAN             863400056\n",
       "KOREA            1255061024\n",
       "MEXICO           1529353706\n",
       "RUSSIA           1155558365\n",
       "U.S.A            1370730670\n",
       "Name: views, dtype: int64"
      ]
     },
     "execution_count": 74,
     "metadata": {},
     "output_type": "execute_result"
    }
   ],
   "source": [
    "grouped = result.groupby('Country')\n",
    "total_views = grouped['views'].agg(np.sum)\n",
    "total_views"
   ]
  },
  {
   "cell_type": "code",
   "execution_count": 75,
   "metadata": {},
   "outputs": [
    {
     "data": {
      "text/plain": [
       "Country\n",
       "CANADA           18657.655240\n",
       "DENMARK          14874.552342\n",
       "FRANCE           10894.700898\n",
       "GREAT BRITAIN    46257.696000\n",
       "INDIA            13631.497896\n",
       "JAPAN             6131.144117\n",
       "KOREA             8116.366312\n",
       "MEXICO            9283.786011\n",
       "RUSSIA            6959.863079\n",
       "U.S.A            27433.352515\n",
       "Name: likes, dtype: float64"
      ]
     },
     "execution_count": 75,
     "metadata": {},
     "output_type": "execute_result"
    }
   ],
   "source": [
    "grouped = result.groupby('Country')\n",
    "avg_likes = grouped['likes'].agg(np.mean)\n",
    "avg_likes"
   ]
  },
  {
   "cell_type": "code",
   "execution_count": 76,
   "metadata": {},
   "outputs": [
    {
     "data": {
      "text/plain": [
       "Country\n",
       "CANADA            879.827029\n",
       "DENMARK           847.291372\n",
       "FRANCE            508.683982\n",
       "GREAT BRITAIN    1914.210462\n",
       "INDIA            1011.030154\n",
       "JAPAN             265.057432\n",
       "KOREA             532.497156\n",
       "MEXICO            429.720080\n",
       "RUSSIA            635.904631\n",
       "U.S.A            1110.419574\n",
       "Name: dislikes, dtype: float64"
      ]
     },
     "execution_count": 76,
     "metadata": {},
     "output_type": "execute_result"
    }
   ],
   "source": [
    "grouped = result.groupby('Country')\n",
    "avg_dislikes = grouped['dislikes'].agg(np.mean)\n",
    "avg_dislikes "
   ]
  },
  {
   "cell_type": "code",
   "execution_count": 77,
   "metadata": {},
   "outputs": [
    {
     "data": {
      "text/plain": [
       "Country\n",
       "CANADA           40881\n",
       "DENMARK          40840\n",
       "FRANCE           40724\n",
       "GREAT BRITAIN    38916\n",
       "INDIA            37352\n",
       "JAPAN            20523\n",
       "KOREA            34567\n",
       "MEXICO           40451\n",
       "RUSSIA           40739\n",
       "U.S.A            40949\n",
       "Name: no_of_vids, dtype: int64"
      ]
     },
     "execution_count": 77,
     "metadata": {},
     "output_type": "execute_result"
    }
   ],
   "source": [
    "grouped = result.groupby('Country')\n",
    "total_vids = grouped['no_of_vids'].agg(np.sum)\n",
    "total_vids "
   ]
  },
  {
   "cell_type": "code",
   "execution_count": 78,
   "metadata": {},
   "outputs": [
    {
     "data": {
      "text/plain": [
       "Country\n",
       "CANADA           2342.168243\n",
       "DENMARK          1829.612818\n",
       "FRANCE           1142.329790\n",
       "GREAT BRITAIN    4704.643692\n",
       "INDIA            1508.906031\n",
       "JAPAN             775.967735\n",
       "KOREA            1184.889686\n",
       "MEXICO           1166.619321\n",
       "RUSSIA            871.592411\n",
       "U.S.A            3340.599909\n",
       "Name: comment_count, dtype: float64"
      ]
     },
     "execution_count": 78,
     "metadata": {},
     "output_type": "execute_result"
    }
   ],
   "source": [
    "grouped = result.groupby('Country')\n",
    "avg_comment = grouped['comment_count'].agg(np.mean)\n",
    "avg_comment "
   ]
  },
  {
   "cell_type": "code",
   "execution_count": 81,
   "metadata": {},
   "outputs": [
    {
     "data": {
      "text/html": [
       "<div>\n",
       "<style scoped>\n",
       "    .dataframe tbody tr th:only-of-type {\n",
       "        vertical-align: middle;\n",
       "    }\n",
       "\n",
       "    .dataframe tbody tr th {\n",
       "        vertical-align: top;\n",
       "    }\n",
       "\n",
       "    .dataframe thead th {\n",
       "        text-align: right;\n",
       "    }\n",
       "</style>\n",
       "<table border=\"1\" class=\"dataframe\">\n",
       "  <thead>\n",
       "    <tr style=\"text-align: right;\">\n",
       "      <th></th>\n",
       "      <th>avg_likes</th>\n",
       "      <th>avg_dislikes</th>\n",
       "      <th>avg_comment</th>\n",
       "      <th>total_vids</th>\n",
       "      <th>total_views</th>\n",
       "    </tr>\n",
       "    <tr>\n",
       "      <th>Country</th>\n",
       "      <th></th>\n",
       "      <th></th>\n",
       "      <th></th>\n",
       "      <th></th>\n",
       "      <th></th>\n",
       "    </tr>\n",
       "  </thead>\n",
       "  <tbody>\n",
       "    <tr>\n",
       "      <td>CANADA</td>\n",
       "      <td>18657.655240</td>\n",
       "      <td>879.827029</td>\n",
       "      <td>2342.168243</td>\n",
       "      <td>40881</td>\n",
       "      <td>2707881149</td>\n",
       "    </tr>\n",
       "    <tr>\n",
       "      <td>DENMARK</td>\n",
       "      <td>14874.552342</td>\n",
       "      <td>847.291372</td>\n",
       "      <td>1829.612818</td>\n",
       "      <td>40840</td>\n",
       "      <td>2545047594</td>\n",
       "    </tr>\n",
       "    <tr>\n",
       "      <td>FRANCE</td>\n",
       "      <td>10894.700898</td>\n",
       "      <td>508.683982</td>\n",
       "      <td>1142.329790</td>\n",
       "      <td>40724</td>\n",
       "      <td>1962838695</td>\n",
       "    </tr>\n",
       "    <tr>\n",
       "      <td>GREAT BRITAIN</td>\n",
       "      <td>46257.696000</td>\n",
       "      <td>1914.210462</td>\n",
       "      <td>4704.643692</td>\n",
       "      <td>38916</td>\n",
       "      <td>2122672331</td>\n",
       "    </tr>\n",
       "    <tr>\n",
       "      <td>INDIA</td>\n",
       "      <td>13631.497896</td>\n",
       "      <td>1011.030154</td>\n",
       "      <td>1508.906031</td>\n",
       "      <td>37352</td>\n",
       "      <td>660816013</td>\n",
       "    </tr>\n",
       "    <tr>\n",
       "      <td>JAPAN</td>\n",
       "      <td>6131.144117</td>\n",
       "      <td>265.057432</td>\n",
       "      <td>775.967735</td>\n",
       "      <td>20523</td>\n",
       "      <td>863400056</td>\n",
       "    </tr>\n",
       "    <tr>\n",
       "      <td>KOREA</td>\n",
       "      <td>8116.366312</td>\n",
       "      <td>532.497156</td>\n",
       "      <td>1184.889686</td>\n",
       "      <td>34567</td>\n",
       "      <td>1255061024</td>\n",
       "    </tr>\n",
       "    <tr>\n",
       "      <td>MEXICO</td>\n",
       "      <td>9283.786011</td>\n",
       "      <td>429.720080</td>\n",
       "      <td>1166.619321</td>\n",
       "      <td>40451</td>\n",
       "      <td>1529353706</td>\n",
       "    </tr>\n",
       "    <tr>\n",
       "      <td>RUSSIA</td>\n",
       "      <td>6959.863079</td>\n",
       "      <td>635.904631</td>\n",
       "      <td>871.592411</td>\n",
       "      <td>40739</td>\n",
       "      <td>1155558365</td>\n",
       "    </tr>\n",
       "    <tr>\n",
       "      <td>U.S.A</td>\n",
       "      <td>27433.352515</td>\n",
       "      <td>1110.419574</td>\n",
       "      <td>3340.599909</td>\n",
       "      <td>40949</td>\n",
       "      <td>1370730670</td>\n",
       "    </tr>\n",
       "  </tbody>\n",
       "</table>\n",
       "</div>"
      ],
      "text/plain": [
       "                  avg_likes  avg_dislikes  avg_comment  total_vids  \\\n",
       "Country                                                              \n",
       "CANADA         18657.655240    879.827029  2342.168243       40881   \n",
       "DENMARK        14874.552342    847.291372  1829.612818       40840   \n",
       "FRANCE         10894.700898    508.683982  1142.329790       40724   \n",
       "GREAT BRITAIN  46257.696000   1914.210462  4704.643692       38916   \n",
       "INDIA          13631.497896   1011.030154  1508.906031       37352   \n",
       "JAPAN           6131.144117    265.057432   775.967735       20523   \n",
       "KOREA           8116.366312    532.497156  1184.889686       34567   \n",
       "MEXICO          9283.786011    429.720080  1166.619321       40451   \n",
       "RUSSIA          6959.863079    635.904631   871.592411       40739   \n",
       "U.S.A          27433.352515   1110.419574  3340.599909       40949   \n",
       "\n",
       "               total_views  \n",
       "Country                     \n",
       "CANADA          2707881149  \n",
       "DENMARK         2545047594  \n",
       "FRANCE          1962838695  \n",
       "GREAT BRITAIN   2122672331  \n",
       "INDIA            660816013  \n",
       "JAPAN            863400056  \n",
       "KOREA           1255061024  \n",
       "MEXICO          1529353706  \n",
       "RUSSIA          1155558365  \n",
       "U.S.A           1370730670  "
      ]
     },
     "execution_count": 81,
     "metadata": {},
     "output_type": "execute_result"
    }
   ],
   "source": [
    "grouped = result.groupby(['Country'])\n",
    "summary = pd.DataFrame({'avg_likes':avg_likes,\n",
    "                         'avg_dislikes': avg_dislikes,\n",
    "                         'avg_comment':avg_comment,\n",
    "                         'total_vids':total_vids,\n",
    "                         'total_views': total_views})\n",
    "summary"
   ]
  },
  {
   "cell_type": "code",
   "execution_count": 82,
   "metadata": {},
   "outputs": [],
   "source": [
    "# Export DataFrame & Save DataFrame to a .CSV\n",
    "result.to_json('../VisualizationSite_Final/data/bubble_chart_data/fereshtehTesting.json')"
   ]
  },
  {
   "cell_type": "code",
   "execution_count": 86,
   "metadata": {},
   "outputs": [],
   "source": [
    "summary.to_json('../VisualizationSite_Final/data/bubble_chart_data/fereshtehTesting.json')"
   ]
  },
  {
   "cell_type": "code",
   "execution_count": 84,
   "metadata": {},
   "outputs": [],
   "source": [
    "summary.to_csv('../VisualizationSite_Final/data/bubble_chart_data/fereshtehTesting.csv')"
   ]
  },
  {
   "cell_type": "code",
   "execution_count": 104,
   "metadata": {},
   "outputs": [
    {
     "data": {
      "text/plain": [
       "0       171411\n",
       "1       171411\n",
       "2       171411\n",
       "3       171411\n",
       "4       171411\n",
       "         ...  \n",
       "2202    182401\n",
       "2203    172011\n",
       "2204    181402\n",
       "2205    171511\n",
       "2206    172311\n",
       "Name: trending_date, Length: 45699, dtype: int32"
      ]
     },
     "execution_count": 104,
     "metadata": {},
     "output_type": "execute_result"
    }
   ],
   "source": [
    "#result['publish_time'].astype(str).astype(int)\n",
    "#result['trending_date'].str.replace(\"-\",\"\")\n",
    "result['trending_date'].str.replace(\".\",\"\").astype(int)\n"
   ]
  },
  {
   "cell_type": "code",
   "execution_count": 105,
   "metadata": {},
   "outputs": [
    {
     "name": "stdout",
     "output_type": "stream",
     "text": [
      "<class 'pandas.core.frame.DataFrame'>\n",
      "Int64Index: 45699 entries, 0 to 2206\n",
      "Data columns (total 15 columns):\n",
      "Unnamed: 0           45699 non-null int64\n",
      "channel_title        45699 non-null object\n",
      "no_of_vids           45699 non-null int64\n",
      "trending_date        45699 non-null object\n",
      "title                45699 non-null object\n",
      "category_id          45699 non-null int64\n",
      "publish_time         45699 non-null object\n",
      "views                45699 non-null int64\n",
      "likes                45699 non-null int64\n",
      "dislikes             45699 non-null int64\n",
      "comment_count        45699 non-null int64\n",
      "comments_disabled    45699 non-null bool\n",
      "Unnamed: 0.1         45699 non-null int64\n",
      "Category_name        45699 non-null object\n",
      "Country              45699 non-null object\n",
      "dtypes: bool(1), int64(8), object(6)\n",
      "memory usage: 5.3+ MB\n"
     ]
    }
   ],
   "source": [
    "result.info()"
   ]
  },
  {
   "cell_type": "code",
   "execution_count": 106,
   "metadata": {
    "scrolled": true
   },
   "outputs": [],
   "source": [
    "# DROP UN-Wanted/UN-neccessary Columns\n",
    "result.drop(columns=['Unnamed: 0', 'comments_disabled','Unnamed: 0.1'], inplace = True)"
   ]
  },
  {
   "cell_type": "code",
   "execution_count": 107,
   "metadata": {},
   "outputs": [
    {
     "name": "stdout",
     "output_type": "stream",
     "text": [
      "<class 'pandas.core.frame.DataFrame'>\n",
      "Int64Index: 45699 entries, 0 to 2206\n",
      "Data columns (total 12 columns):\n",
      "channel_title    45699 non-null object\n",
      "no_of_vids       45699 non-null int64\n",
      "trending_date    45699 non-null object\n",
      "title            45699 non-null object\n",
      "category_id      45699 non-null int64\n",
      "publish_time     45699 non-null object\n",
      "views            45699 non-null int64\n",
      "likes            45699 non-null int64\n",
      "dislikes         45699 non-null int64\n",
      "comment_count    45699 non-null int64\n",
      "Category_name    45699 non-null object\n",
      "Country          45699 non-null object\n",
      "dtypes: int64(6), object(6)\n",
      "memory usage: 4.5+ MB\n"
     ]
    }
   ],
   "source": [
    "result.info()"
   ]
  },
  {
   "cell_type": "code",
   "execution_count": 118,
   "metadata": {},
   "outputs": [],
   "source": [
    "#result['publish_time'].astype(str).astype(int)\n",
    "#result['trending_date'].str.replace(\"-\",\"\")\n",
    "# final_result = result['trending_date'].str.replace(\".\",\"\").astype(int)\n",
    "\n",
    "# final_result = result['trending_date'].astype(str).astype(int)\n",
    "# final_result.head()\n",
    "\n",
    "result['trending_date']=result['trending_date'].str.replace('.','').apply(int)"
   ]
  },
  {
   "cell_type": "code",
   "execution_count": 119,
   "metadata": {},
   "outputs": [],
   "source": [
    "# Export DataFrame & Save DataFrame to a .CSV\n",
    "result.to_csv('../Bubble_Chart/data/fereshtehTesting.csv')"
   ]
  },
  {
   "cell_type": "code",
   "execution_count": null,
   "metadata": {},
   "outputs": [],
   "source": []
  },
  {
   "cell_type": "code",
   "execution_count": null,
   "metadata": {},
   "outputs": [],
   "source": []
  }
 ],
 "metadata": {
  "kernelspec": {
   "display_name": "Python 3",
   "language": "python",
   "name": "python3"
  },
  "language_info": {
   "codemirror_mode": {
    "name": "ipython",
    "version": 3
   },
   "file_extension": ".py",
   "mimetype": "text/x-python",
   "name": "python",
   "nbconvert_exporter": "python",
   "pygments_lexer": "ipython3",
   "version": "3.7.4"
  }
 },
 "nbformat": 4,
 "nbformat_minor": 2
}
