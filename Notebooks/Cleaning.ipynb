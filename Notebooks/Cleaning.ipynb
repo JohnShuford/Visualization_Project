{
 "cells": [
  {
   "cell_type": "code",
   "execution_count": 10,
   "metadata": {},
   "outputs": [
    {
     "name": "stdout",
     "output_type": "stream",
     "text": [
      "Requirement already satisfied: google_trans_new in /Users/johnnyshuford/opt/anaconda3/envs/PythonData/lib/python3.8/site-packages (1.1.9)\n",
      "Requirement already satisfied: googletrans==4.0.0rc1 in /Users/johnnyshuford/opt/anaconda3/envs/PythonData/lib/python3.8/site-packages (4.0.0rc1)\n",
      "Requirement already satisfied: httpx==0.13.3 in /Users/johnnyshuford/opt/anaconda3/envs/PythonData/lib/python3.8/site-packages (from googletrans==4.0.0rc1) (0.13.3)\n",
      "Requirement already satisfied: idna==2.* in /Users/johnnyshuford/opt/anaconda3/envs/PythonData/lib/python3.8/site-packages (from httpx==0.13.3->googletrans==4.0.0rc1) (2.10)\n",
      "Requirement already satisfied: certifi in /Users/johnnyshuford/opt/anaconda3/envs/PythonData/lib/python3.8/site-packages (from httpx==0.13.3->googletrans==4.0.0rc1) (2020.6.20)\n",
      "Requirement already satisfied: hstspreload in /Users/johnnyshuford/opt/anaconda3/envs/PythonData/lib/python3.8/site-packages (from httpx==0.13.3->googletrans==4.0.0rc1) (2020.11.21)\n",
      "Requirement already satisfied: chardet==3.* in /Users/johnnyshuford/opt/anaconda3/envs/PythonData/lib/python3.8/site-packages (from httpx==0.13.3->googletrans==4.0.0rc1) (3.0.4)\n",
      "Requirement already satisfied: sniffio in /Users/johnnyshuford/opt/anaconda3/envs/PythonData/lib/python3.8/site-packages (from httpx==0.13.3->googletrans==4.0.0rc1) (1.2.0)\n",
      "Requirement already satisfied: httpcore==0.9.* in /Users/johnnyshuford/opt/anaconda3/envs/PythonData/lib/python3.8/site-packages (from httpx==0.13.3->googletrans==4.0.0rc1) (0.9.1)\n",
      "Requirement already satisfied: rfc3986<2,>=1.3 in /Users/johnnyshuford/opt/anaconda3/envs/PythonData/lib/python3.8/site-packages (from httpx==0.13.3->googletrans==4.0.0rc1) (1.4.0)\n",
      "Requirement already satisfied: h11<0.10,>=0.8 in /Users/johnnyshuford/opt/anaconda3/envs/PythonData/lib/python3.8/site-packages (from httpcore==0.9.*->httpx==0.13.3->googletrans==4.0.0rc1) (0.9.0)\n",
      "Requirement already satisfied: h2==3.* in /Users/johnnyshuford/opt/anaconda3/envs/PythonData/lib/python3.8/site-packages (from httpcore==0.9.*->httpx==0.13.3->googletrans==4.0.0rc1) (3.2.0)\n",
      "Requirement already satisfied: hpack<4,>=3.0 in /Users/johnnyshuford/opt/anaconda3/envs/PythonData/lib/python3.8/site-packages (from h2==3.*->httpcore==0.9.*->httpx==0.13.3->googletrans==4.0.0rc1) (3.0.0)\n",
      "Requirement already satisfied: hyperframe<6,>=5.2.0 in /Users/johnnyshuford/opt/anaconda3/envs/PythonData/lib/python3.8/site-packages (from h2==3.*->httpcore==0.9.*->httpx==0.13.3->googletrans==4.0.0rc1) (5.2.0)\n",
      "Requirement already satisfied: googletrans-temp in /Users/johnnyshuford/opt/anaconda3/envs/PythonData/lib/python3.8/site-packages (2.3.0)\n",
      "Requirement already satisfied: requests in /Users/johnnyshuford/opt/anaconda3/envs/PythonData/lib/python3.8/site-packages (from googletrans-temp) (2.24.0)\n",
      "Requirement already satisfied: certifi>=2017.4.17 in /Users/johnnyshuford/opt/anaconda3/envs/PythonData/lib/python3.8/site-packages (from requests->googletrans-temp) (2020.6.20)\n",
      "Requirement already satisfied: urllib3!=1.25.0,!=1.25.1,<1.26,>=1.21.1 in /Users/johnnyshuford/opt/anaconda3/envs/PythonData/lib/python3.8/site-packages (from requests->googletrans-temp) (1.25.10)\n",
      "Requirement already satisfied: chardet<4,>=3.0.2 in /Users/johnnyshuford/opt/anaconda3/envs/PythonData/lib/python3.8/site-packages (from requests->googletrans-temp) (3.0.4)\n",
      "Requirement already satisfied: idna<3,>=2.5 in /Users/johnnyshuford/opt/anaconda3/envs/PythonData/lib/python3.8/site-packages (from requests->googletrans-temp) (2.10)\n",
      "Requirement already satisfied: translate in /Users/johnnyshuford/opt/anaconda3/envs/PythonData/lib/python3.8/site-packages (3.5.0)\n",
      "Requirement already satisfied: click in /Users/johnnyshuford/opt/anaconda3/envs/PythonData/lib/python3.8/site-packages (from translate) (7.1.2)\n",
      "Requirement already satisfied: tox in /Users/johnnyshuford/opt/anaconda3/envs/PythonData/lib/python3.8/site-packages (from translate) (3.20.1)\n",
      "Requirement already satisfied: pre-commit in /Users/johnnyshuford/opt/anaconda3/envs/PythonData/lib/python3.8/site-packages (from translate) (2.9.3)\n",
      "Requirement already satisfied: requests in /Users/johnnyshuford/opt/anaconda3/envs/PythonData/lib/python3.8/site-packages (from translate) (2.24.0)\n",
      "Requirement already satisfied: lxml in /Users/johnnyshuford/opt/anaconda3/envs/PythonData/lib/python3.8/site-packages (from translate) (4.6.2)\n",
      "Requirement already satisfied: six>=1.14.0 in /Users/johnnyshuford/opt/anaconda3/envs/PythonData/lib/python3.8/site-packages (from tox->translate) (1.15.0)\n",
      "Requirement already satisfied: filelock>=3.0.0 in /Users/johnnyshuford/opt/anaconda3/envs/PythonData/lib/python3.8/site-packages (from tox->translate) (3.0.12)\n",
      "Requirement already satisfied: packaging>=14 in /Users/johnnyshuford/opt/anaconda3/envs/PythonData/lib/python3.8/site-packages (from tox->translate) (20.4)\n",
      "Requirement already satisfied: virtualenv!=20.0.0,!=20.0.1,!=20.0.2,!=20.0.3,!=20.0.4,!=20.0.5,!=20.0.6,!=20.0.7,>=16.0.0 in /Users/johnnyshuford/opt/anaconda3/envs/PythonData/lib/python3.8/site-packages (from tox->translate) (20.2.2)\n",
      "Requirement already satisfied: pluggy>=0.12.0 in /Users/johnnyshuford/opt/anaconda3/envs/PythonData/lib/python3.8/site-packages (from tox->translate) (0.13.1)\n",
      "Requirement already satisfied: toml>=0.9.4 in /Users/johnnyshuford/opt/anaconda3/envs/PythonData/lib/python3.8/site-packages (from tox->translate) (0.10.1)\n",
      "Requirement already satisfied: py>=1.4.17 in /Users/johnnyshuford/opt/anaconda3/envs/PythonData/lib/python3.8/site-packages (from tox->translate) (1.9.0)\n",
      "Requirement already satisfied: nodeenv>=0.11.1 in /Users/johnnyshuford/opt/anaconda3/envs/PythonData/lib/python3.8/site-packages (from pre-commit->translate) (1.5.0)\n",
      "Requirement already satisfied: pyyaml>=5.1 in /Users/johnnyshuford/opt/anaconda3/envs/PythonData/lib/python3.8/site-packages (from pre-commit->translate) (5.3.1)\n",
      "Requirement already satisfied: identify>=1.0.0 in /Users/johnnyshuford/opt/anaconda3/envs/PythonData/lib/python3.8/site-packages (from pre-commit->translate) (1.5.10)\n",
      "Requirement already satisfied: cfgv>=2.0.0 in /Users/johnnyshuford/opt/anaconda3/envs/PythonData/lib/python3.8/site-packages (from pre-commit->translate) (3.2.0)\n",
      "Requirement already satisfied: certifi>=2017.4.17 in /Users/johnnyshuford/opt/anaconda3/envs/PythonData/lib/python3.8/site-packages (from requests->translate) (2020.6.20)\n",
      "Requirement already satisfied: chardet<4,>=3.0.2 in /Users/johnnyshuford/opt/anaconda3/envs/PythonData/lib/python3.8/site-packages (from requests->translate) (3.0.4)\n",
      "Requirement already satisfied: idna<3,>=2.5 in /Users/johnnyshuford/opt/anaconda3/envs/PythonData/lib/python3.8/site-packages (from requests->translate) (2.10)\n",
      "Requirement already satisfied: urllib3!=1.25.0,!=1.25.1,<1.26,>=1.21.1 in /Users/johnnyshuford/opt/anaconda3/envs/PythonData/lib/python3.8/site-packages (from requests->translate) (1.25.10)\n",
      "Requirement already satisfied: pyparsing>=2.0.2 in /Users/johnnyshuford/opt/anaconda3/envs/PythonData/lib/python3.8/site-packages (from packaging>=14->tox->translate) (2.4.7)\n",
      "Requirement already satisfied: appdirs<2,>=1.4.3 in /Users/johnnyshuford/opt/anaconda3/envs/PythonData/lib/python3.8/site-packages (from virtualenv!=20.0.0,!=20.0.1,!=20.0.2,!=20.0.3,!=20.0.4,!=20.0.5,!=20.0.6,!=20.0.7,>=16.0.0->tox->translate) (1.4.4)\n",
      "Requirement already satisfied: distlib<1,>=0.3.1 in /Users/johnnyshuford/opt/anaconda3/envs/PythonData/lib/python3.8/site-packages (from virtualenv!=20.0.0,!=20.0.1,!=20.0.2,!=20.0.3,!=20.0.4,!=20.0.5,!=20.0.6,!=20.0.7,>=16.0.0->tox->translate) (0.3.1)\n",
      "Requirement already satisfied: googletrans in /Users/johnnyshuford/opt/anaconda3/envs/PythonData/lib/python3.8/site-packages (4.0.0rc1)\n",
      "Requirement already satisfied: httpx==0.13.3 in /Users/johnnyshuford/opt/anaconda3/envs/PythonData/lib/python3.8/site-packages (from googletrans) (0.13.3)\n",
      "Requirement already satisfied: chardet==3.* in /Users/johnnyshuford/opt/anaconda3/envs/PythonData/lib/python3.8/site-packages (from httpx==0.13.3->googletrans) (3.0.4)\n",
      "Requirement already satisfied: certifi in /Users/johnnyshuford/opt/anaconda3/envs/PythonData/lib/python3.8/site-packages (from httpx==0.13.3->googletrans) (2020.6.20)\n",
      "Requirement already satisfied: httpcore==0.9.* in /Users/johnnyshuford/opt/anaconda3/envs/PythonData/lib/python3.8/site-packages (from httpx==0.13.3->googletrans) (0.9.1)\n",
      "Requirement already satisfied: idna==2.* in /Users/johnnyshuford/opt/anaconda3/envs/PythonData/lib/python3.8/site-packages (from httpx==0.13.3->googletrans) (2.10)\n",
      "Requirement already satisfied: rfc3986<2,>=1.3 in /Users/johnnyshuford/opt/anaconda3/envs/PythonData/lib/python3.8/site-packages (from httpx==0.13.3->googletrans) (1.4.0)\n",
      "Requirement already satisfied: sniffio in /Users/johnnyshuford/opt/anaconda3/envs/PythonData/lib/python3.8/site-packages (from httpx==0.13.3->googletrans) (1.2.0)\n",
      "Requirement already satisfied: hstspreload in /Users/johnnyshuford/opt/anaconda3/envs/PythonData/lib/python3.8/site-packages (from httpx==0.13.3->googletrans) (2020.11.21)\n",
      "Requirement already satisfied: h11<0.10,>=0.8 in /Users/johnnyshuford/opt/anaconda3/envs/PythonData/lib/python3.8/site-packages (from httpcore==0.9.*->httpx==0.13.3->googletrans) (0.9.0)\n",
      "Requirement already satisfied: h2==3.* in /Users/johnnyshuford/opt/anaconda3/envs/PythonData/lib/python3.8/site-packages (from httpcore==0.9.*->httpx==0.13.3->googletrans) (3.2.0)\n",
      "Requirement already satisfied: hpack<4,>=3.0 in /Users/johnnyshuford/opt/anaconda3/envs/PythonData/lib/python3.8/site-packages (from h2==3.*->httpcore==0.9.*->httpx==0.13.3->googletrans) (3.0.0)\n",
      "Requirement already satisfied: hyperframe<6,>=5.2.0 in /Users/johnnyshuford/opt/anaconda3/envs/PythonData/lib/python3.8/site-packages (from h2==3.*->httpcore==0.9.*->httpx==0.13.3->googletrans) (5.2.0)\n"
     ]
    }
   ],
   "source": [
    "# !pip install google_trans_new\n",
    "# !pip install googletrans==4.0.0rc1\n",
    "# !pip install googletrans-temp\n",
    "# !pip install translate\n",
    "# !pip install googletrans\n",
    "\n",
    "\n",
    "import pandas as pd\n",
    "import json\n",
    "import os\n",
    "from pprint import pprint\n",
    "import googletrans\n",
    "from googletrans import Translator\n",
    "from googletrans import LANGUAGES\n",
    "import numpy as np\n",
    "import matplotlib.pyplot as plt\n",
    "import seaborn as sns\n",
    "from matplotlib.pyplot import figure\n",
    "\n",
    "\n",
    "import pandas as pd\n",
    "import json\n",
    "import os\n",
    "from pprint import pprint\n",
    "\n",
    "import warnings\n",
    "warnings.filterwarnings(\"ignore\")"
   ]
  },
  {
   "cell_type": "markdown",
   "metadata": {},
   "source": [
    "# Importing the CSV Files"
   ]
  },
  {
   "cell_type": "code",
   "execution_count": 11,
   "metadata": {},
   "outputs": [],
   "source": [
    "ca_df = pd.read_csv('../Data/CSVs/CAvideos.csv', encoding=\"utf-8\")\n",
    "de_df = pd.read_csv('../Data/CSVs/DEvideos.csv', encoding=\"utf-8-sig\")\n",
    "fr_df = pd.read_csv('../Data/CSVs/FRvideos.csv', encoding=\"utf-8-sig\")\n",
    "gb_df = pd.read_csv('../Data/CSVs/GBvideos.csv', encoding=\"utf-8\")\n",
    "in_df = pd.read_csv('../Data/CSVs/INvideos.csv', encoding=\"utf-8-sig\")\n",
    "jp_df = pd.read_csv('../Data/CSVs/JPvideos.csv', encoding=\"utf-8\")\n",
    "kr_df = pd.read_csv('../Data/CSVs/KRvideos.csv', encoding=\"utf-8-sig\")\n",
    "mx_df = pd.read_csv('../Data/CSVs/MXvideos.csv', sep=',', encoding=\"utf-8-sig\")\n",
    "ru_df = pd.read_csv('../Data/CSVs/RUvideos.csv', sep=',', encoding=\"utf-8-sig\")\n",
    "us_df = pd.read_csv('../Data/CSVs/USvideos.csv', encoding=\"utf-8\")"
   ]
  },
  {
   "cell_type": "code",
   "execution_count": 12,
   "metadata": {},
   "outputs": [],
   "source": [
    "# lsofdf = [ca_df, de_df, fr_df, gb_df, in_df, us_df]\n",
    "lsofdf = [ca_df, de_df, fr_df, gb_df, in_df, jp_df, kr_df, mx_df, ru_df, us_df]\n",
    "# lsofcoutries = ['ca', 'de', 'fr', 'gb', 'in', 'us']\n",
    "lsofcoutries = ['ca', 'de', 'fr', 'gb', 'in', 'jp', 'kr', 'mx', 'ru', 'us']"
   ]
  },
  {
   "cell_type": "code",
   "execution_count": 13,
   "metadata": {},
   "outputs": [],
   "source": [
    "count = 0\n",
    "for df in lsofdf:\n",
    "    df = df.drop(['video_id','thumbnail_link','ratings_disabled','video_error_or_removed','description', 'tags'], axis=1)\n",
    "    value_counts = df['channel_title'].value_counts().to_frame()\n",
    "    value_counts = value_counts.reset_index()\n",
    "    value_counts = value_counts.rename(columns={'index': 'channel_title', 'channel_title': 'no_of_vids'})\n",
    "    df_merged_all = pd.merge(value_counts, df, how = 'left', on = 'channel_title')\n",
    "    merged = df_merged_all.drop_duplicates(subset = ['channel_title'])\n",
    "#     merged = merged.filter(['channel_title', 'no_of_vids', 'category_id'])\n",
    "    merged.to_csv(f'../CSVs/CleanedCSVs/{lsofcoutries[count]}.csv', index = False)\n",
    "    count+=1"
   ]
  },
  {
   "cell_type": "code",
   "execution_count": null,
   "metadata": {},
   "outputs": [],
   "source": []
  }
 ],
 "metadata": {
  "kernelspec": {
   "display_name": "Python [conda env:PythonData] *",
   "language": "python",
   "name": "conda-env-PythonData-py"
  },
  "language_info": {
   "codemirror_mode": {
    "name": "ipython",
    "version": 3
   },
   "file_extension": ".py",
   "mimetype": "text/x-python",
   "name": "python",
   "nbconvert_exporter": "python",
   "pygments_lexer": "ipython3",
   "version": "3.8.5"
  }
 },
 "nbformat": 4,
 "nbformat_minor": 4
}
