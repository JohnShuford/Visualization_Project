{
 "cells": [
  {
   "cell_type": "markdown",
   "metadata": {},
   "source": [
    "# YouTube Title Category Classifier"
   ]
  },
  {
   "cell_type": "code",
   "execution_count": 1,
   "metadata": {},
   "outputs": [],
   "source": [
    "import numpy as np\n",
    "import pandas as pd\n",
    "import collections\n",
    "from sklearn.feature_extraction.text import CountVectorizer\n",
    "from sklearn.naive_bayes import MultinomialNB\n",
    "from sklearn.model_selection import train_test_split\n",
    "from sklearn.metrics import accuracy_score"
   ]
  },
  {
   "cell_type": "markdown",
   "metadata": {},
   "source": [
    "## Part 1: Import and clean data"
   ]
  },
  {
   "cell_type": "markdown",
   "metadata": {},
   "source": [
    "### Import CSV with all country data"
   ]
  },
  {
   "cell_type": "code",
   "execution_count": 2,
   "metadata": {
    "scrolled": true
   },
   "outputs": [
    {
     "data": {
      "text/html": [
       "<div>\n",
       "<style scoped>\n",
       "    .dataframe tbody tr th:only-of-type {\n",
       "        vertical-align: middle;\n",
       "    }\n",
       "\n",
       "    .dataframe tbody tr th {\n",
       "        vertical-align: top;\n",
       "    }\n",
       "\n",
       "    .dataframe thead th {\n",
       "        text-align: right;\n",
       "    }\n",
       "</style>\n",
       "<table border=\"1\" class=\"dataframe\">\n",
       "  <thead>\n",
       "    <tr style=\"text-align: right;\">\n",
       "      <th></th>\n",
       "      <th>Unnamed: 0</th>\n",
       "      <th>channel_title</th>\n",
       "      <th>no_of_vids</th>\n",
       "      <th>trending_date</th>\n",
       "      <th>title</th>\n",
       "      <th>category_id</th>\n",
       "      <th>publish_time</th>\n",
       "      <th>views</th>\n",
       "      <th>likes</th>\n",
       "      <th>dislikes</th>\n",
       "      <th>comment_count</th>\n",
       "      <th>Category_name</th>\n",
       "      <th>Country</th>\n",
       "    </tr>\n",
       "  </thead>\n",
       "  <tbody>\n",
       "    <tr>\n",
       "      <th>0</th>\n",
       "      <td>0</td>\n",
       "      <td>SET India</td>\n",
       "      <td>192</td>\n",
       "      <td>171411</td>\n",
       "      <td>Crime Patrol Dial 100 - क्राइम पेट्रोल - Ep 65...</td>\n",
       "      <td>24</td>\n",
       "      <td>2017-11-12T15:34:31.000Z</td>\n",
       "      <td>210478</td>\n",
       "      <td>905</td>\n",
       "      <td>176</td>\n",
       "      <td>85</td>\n",
       "      <td>Entertainment</td>\n",
       "      <td>CANADA</td>\n",
       "    </tr>\n",
       "    <tr>\n",
       "      <th>1</th>\n",
       "      <td>1</td>\n",
       "      <td>MSNBC</td>\n",
       "      <td>189</td>\n",
       "      <td>171411</td>\n",
       "      <td>Barnicle: World Leaders Are Laughing At The US...</td>\n",
       "      <td>25</td>\n",
       "      <td>2017-11-13T14:53:22.000Z</td>\n",
       "      <td>200264</td>\n",
       "      <td>2947</td>\n",
       "      <td>317</td>\n",
       "      <td>2321</td>\n",
       "      <td>News &amp; Politics</td>\n",
       "      <td>CANADA</td>\n",
       "    </tr>\n",
       "    <tr>\n",
       "      <th>2</th>\n",
       "      <td>2</td>\n",
       "      <td>FBE</td>\n",
       "      <td>188</td>\n",
       "      <td>171411</td>\n",
       "      <td>YOUTUBERS REACT TO TOP 10 TWITTER ACCOUNTS OF ...</td>\n",
       "      <td>24</td>\n",
       "      <td>2017-11-12T22:00:01.000Z</td>\n",
       "      <td>960747</td>\n",
       "      <td>31810</td>\n",
       "      <td>668</td>\n",
       "      <td>5335</td>\n",
       "      <td>Entertainment</td>\n",
       "      <td>CANADA</td>\n",
       "    </tr>\n",
       "  </tbody>\n",
       "</table>\n",
       "</div>"
      ],
      "text/plain": [
       "   Unnamed: 0 channel_title  no_of_vids  trending_date  \\\n",
       "0           0     SET India         192         171411   \n",
       "1           1         MSNBC         189         171411   \n",
       "2           2           FBE         188         171411   \n",
       "\n",
       "                                               title  category_id  \\\n",
       "0  Crime Patrol Dial 100 - क्राइम पेट्रोल - Ep 65...           24   \n",
       "1  Barnicle: World Leaders Are Laughing At The US...           25   \n",
       "2  YOUTUBERS REACT TO TOP 10 TWITTER ACCOUNTS OF ...           24   \n",
       "\n",
       "               publish_time   views  likes  dislikes  comment_count  \\\n",
       "0  2017-11-12T15:34:31.000Z  210478    905       176             85   \n",
       "1  2017-11-13T14:53:22.000Z  200264   2947       317           2321   \n",
       "2  2017-11-12T22:00:01.000Z  960747  31810       668           5335   \n",
       "\n",
       "     Category_name Country  \n",
       "0    Entertainment  CANADA  \n",
       "1  News & Politics  CANADA  \n",
       "2    Entertainment  CANADA  "
      ]
     },
     "execution_count": 2,
     "metadata": {},
     "output_type": "execute_result"
    }
   ],
   "source": [
    "ALLvids = pd.read_csv(\"All_cnt_ctg.csv\", header=0)\n",
    "ALLvids.head(3)"
   ]
  },
  {
   "cell_type": "markdown",
   "metadata": {},
   "source": [
    "### Create New Dataframe with only US, Great Britian, and Canada data"
   ]
  },
  {
   "cell_type": "code",
   "execution_count": 3,
   "metadata": {
    "scrolled": true
   },
   "outputs": [
    {
     "data": {
      "text/html": [
       "<div>\n",
       "<style scoped>\n",
       "    .dataframe tbody tr th:only-of-type {\n",
       "        vertical-align: middle;\n",
       "    }\n",
       "\n",
       "    .dataframe tbody tr th {\n",
       "        vertical-align: top;\n",
       "    }\n",
       "\n",
       "    .dataframe thead th {\n",
       "        text-align: right;\n",
       "    }\n",
       "</style>\n",
       "<table border=\"1\" class=\"dataframe\">\n",
       "  <thead>\n",
       "    <tr style=\"text-align: right;\">\n",
       "      <th></th>\n",
       "      <th>Unnamed: 0</th>\n",
       "      <th>channel_title</th>\n",
       "      <th>no_of_vids</th>\n",
       "      <th>trending_date</th>\n",
       "      <th>title</th>\n",
       "      <th>category_id</th>\n",
       "      <th>publish_time</th>\n",
       "      <th>views</th>\n",
       "      <th>likes</th>\n",
       "      <th>dislikes</th>\n",
       "      <th>comment_count</th>\n",
       "      <th>Category_name</th>\n",
       "      <th>Country</th>\n",
       "    </tr>\n",
       "  </thead>\n",
       "  <tbody>\n",
       "    <tr>\n",
       "      <th>0</th>\n",
       "      <td>0</td>\n",
       "      <td>SET India</td>\n",
       "      <td>192</td>\n",
       "      <td>171411</td>\n",
       "      <td>Crime Patrol Dial 100 - क्राइम पेट्रोल - Ep 65...</td>\n",
       "      <td>24</td>\n",
       "      <td>2017-11-12T15:34:31.000Z</td>\n",
       "      <td>210478</td>\n",
       "      <td>905</td>\n",
       "      <td>176</td>\n",
       "      <td>85</td>\n",
       "      <td>Entertainment</td>\n",
       "      <td>CANADA</td>\n",
       "    </tr>\n",
       "    <tr>\n",
       "      <th>1</th>\n",
       "      <td>1</td>\n",
       "      <td>MSNBC</td>\n",
       "      <td>189</td>\n",
       "      <td>171411</td>\n",
       "      <td>Barnicle: World Leaders Are Laughing At The US...</td>\n",
       "      <td>25</td>\n",
       "      <td>2017-11-13T14:53:22.000Z</td>\n",
       "      <td>200264</td>\n",
       "      <td>2947</td>\n",
       "      <td>317</td>\n",
       "      <td>2321</td>\n",
       "      <td>News &amp; Politics</td>\n",
       "      <td>CANADA</td>\n",
       "    </tr>\n",
       "    <tr>\n",
       "      <th>2</th>\n",
       "      <td>2</td>\n",
       "      <td>FBE</td>\n",
       "      <td>188</td>\n",
       "      <td>171411</td>\n",
       "      <td>YOUTUBERS REACT TO TOP 10 TWITTER ACCOUNTS OF ...</td>\n",
       "      <td>24</td>\n",
       "      <td>2017-11-12T22:00:01.000Z</td>\n",
       "      <td>960747</td>\n",
       "      <td>31810</td>\n",
       "      <td>668</td>\n",
       "      <td>5335</td>\n",
       "      <td>Entertainment</td>\n",
       "      <td>CANADA</td>\n",
       "    </tr>\n",
       "    <tr>\n",
       "      <th>3</th>\n",
       "      <td>3</td>\n",
       "      <td>The Young Turks</td>\n",
       "      <td>186</td>\n",
       "      <td>171411</td>\n",
       "      <td>The Alt-Right Is Crushing On Taylor Swift</td>\n",
       "      <td>25</td>\n",
       "      <td>2017-11-13T02:00:00.000Z</td>\n",
       "      <td>100394</td>\n",
       "      <td>1619</td>\n",
       "      <td>907</td>\n",
       "      <td>1595</td>\n",
       "      <td>News &amp; Politics</td>\n",
       "      <td>CANADA</td>\n",
       "    </tr>\n",
       "    <tr>\n",
       "      <th>4</th>\n",
       "      <td>4</td>\n",
       "      <td>REACT</td>\n",
       "      <td>183</td>\n",
       "      <td>171411</td>\n",
       "      <td>DO COLLEGE KIDS KNOW 80s MUSIC? #8 (REACT: Do ...</td>\n",
       "      <td>24</td>\n",
       "      <td>2017-11-12T20:00:01.000Z</td>\n",
       "      <td>549374</td>\n",
       "      <td>16832</td>\n",
       "      <td>248</td>\n",
       "      <td>3579</td>\n",
       "      <td>Entertainment</td>\n",
       "      <td>CANADA</td>\n",
       "    </tr>\n",
       "  </tbody>\n",
       "</table>\n",
       "</div>"
      ],
      "text/plain": [
       "   Unnamed: 0    channel_title  no_of_vids  trending_date  \\\n",
       "0           0        SET India         192         171411   \n",
       "1           1            MSNBC         189         171411   \n",
       "2           2              FBE         188         171411   \n",
       "3           3  The Young Turks         186         171411   \n",
       "4           4            REACT         183         171411   \n",
       "\n",
       "                                               title  category_id  \\\n",
       "0  Crime Patrol Dial 100 - क्राइम पेट्रोल - Ep 65...           24   \n",
       "1  Barnicle: World Leaders Are Laughing At The US...           25   \n",
       "2  YOUTUBERS REACT TO TOP 10 TWITTER ACCOUNTS OF ...           24   \n",
       "3          The Alt-Right Is Crushing On Taylor Swift           25   \n",
       "4  DO COLLEGE KIDS KNOW 80s MUSIC? #8 (REACT: Do ...           24   \n",
       "\n",
       "               publish_time   views  likes  dislikes  comment_count  \\\n",
       "0  2017-11-12T15:34:31.000Z  210478    905       176             85   \n",
       "1  2017-11-13T14:53:22.000Z  200264   2947       317           2321   \n",
       "2  2017-11-12T22:00:01.000Z  960747  31810       668           5335   \n",
       "3  2017-11-13T02:00:00.000Z  100394   1619       907           1595   \n",
       "4  2017-11-12T20:00:01.000Z  549374  16832       248           3579   \n",
       "\n",
       "     Category_name Country  \n",
       "0    Entertainment  CANADA  \n",
       "1  News & Politics  CANADA  \n",
       "2    Entertainment  CANADA  \n",
       "3  News & Politics  CANADA  \n",
       "4    Entertainment  CANADA  "
      ]
     },
     "execution_count": 3,
     "metadata": {},
     "output_type": "execute_result"
    }
   ],
   "source": [
    "new_videos = ALLvids.loc[(ALLvids['Country'] == \"U.S.A\")|(ALLvids['Country'] == \"GREAT BRITAIN\")|(ALLvids['Country'] == \"CANADA\")]\n",
    "            \n",
    "new_videos.head(5)"
   ]
  },
  {
   "cell_type": "markdown",
   "metadata": {},
   "source": [
    "# Part 2: Train model using Naive Bayes\n",
    "***"
   ]
  },
  {
   "cell_type": "markdown",
   "metadata": {},
   "source": [
    "### Split 'Title' into a string of words using CountVectorizer:"
   ]
  },
  {
   "cell_type": "code",
   "execution_count": 4,
   "metadata": {},
   "outputs": [],
   "source": [
    "vector = CountVectorizer()\n",
    "counts = vector.fit_transform(new_videos['title'].values)"
   ]
  },
  {
   "cell_type": "markdown",
   "metadata": {},
   "source": [
    "### Use the Naive Bayes model and target 'Category':"
   ]
  },
  {
   "cell_type": "code",
   "execution_count": 5,
   "metadata": {},
   "outputs": [
    {
     "data": {
      "text/plain": [
       "MultinomialNB()"
      ]
     },
     "execution_count": 5,
     "metadata": {},
     "output_type": "execute_result"
    }
   ],
   "source": [
    "NB_Model = MultinomialNB()\n",
    "targets = new_videos['category_id'].values\n",
    "NB_Model.fit(counts,targets)"
   ]
  },
  {
   "cell_type": "markdown",
   "metadata": {},
   "source": [
    "### Check Accuracy using a 90/10 train/test split"
   ]
  },
  {
   "cell_type": "code",
   "execution_count": 6,
   "metadata": {},
   "outputs": [
    {
     "name": "stdout",
     "output_type": "stream",
     "text": [
      "The Naive Bayes Algorithm scored an accuracy of 0.47474747474747475\n"
     ]
    }
   ],
   "source": [
    "X= counts\n",
    "y= targets\n",
    "X_train, X_test, y_train, y_test = train_test_split(X, y, test_size = .1)\n",
    "\n",
    "NBtest = MultinomialNB().fit(X_train, y_train)\n",
    "nb_predictions = NBtest.predict(X_test)\n",
    "acc_nb = NBtest.score(X_test, y_test)\n",
    "print('The Naive Bayes Algorithm scored an accuracy of', acc_nb)"
   ]
  },
  {
   "cell_type": "markdown",
   "metadata": {},
   "source": [
    "# Part 3: Test model"
   ]
  },
  {
   "cell_type": "markdown",
   "metadata": {},
   "source": [
    "### Enter hypothetical titles to predict the category for: "
   ]
  },
  {
   "cell_type": "code",
   "execution_count": 7,
   "metadata": {},
   "outputs": [],
   "source": [
    "Titles = [\"Hilarious cat plays with toy\",\n",
    "        \"Best fashion looks for Spring 2018\",\n",
    "        \"Olympics opening ceremony highlights\",\n",
    "        \"Warriors basketball game versus the cavs\",\n",
    "        \"CNN world news on donald trump\",\n",
    "        \"Police Chase in Hollywood\",\n",
    "        \"Ed Sheeran - Perfect (Official Music Video)\",\n",
    "        \"how to do eyeshadow\"\n",
    "         ]"
   ]
  },
  {
   "cell_type": "markdown",
   "metadata": {},
   "source": [
    "### Insert titles into model to make predictions:"
   ]
  },
  {
   "cell_type": "code",
   "execution_count": 8,
   "metadata": {},
   "outputs": [
    {
     "data": {
      "text/plain": [
       "array([24, 24, 17, 17, 25, 24, 10, 24])"
      ]
     },
     "execution_count": 8,
     "metadata": {},
     "output_type": "execute_result"
    }
   ],
   "source": [
    "Titles_counts = vector.transform(Titles)\n",
    "Predict = NB_Model.predict(Titles_counts)\n",
    "Predict"
   ]
  },
  {
   "cell_type": "markdown",
   "metadata": {},
   "source": [
    "### Create Category Names Dictionary to iterate through, pairing model outputs with matching category name "
   ]
  },
  {
   "cell_type": "code",
   "execution_count": 9,
   "metadata": {},
   "outputs": [],
   "source": [
    "#Create Category Dictionary\n",
    "CategoryNamesDict = {\"Film & Animation\": 1,\"Autos & Vehicles\": 2,\"Music\": 10,\n",
    "                \"Pets & Animals\": 15,\"Sports\":17,\"Short Movies\":18,\"Travel & Events\":19,\"Gaming\":20,\n",
    "                \"Videoblogging\":21, \"People & Blogs\":22,\"Comedy\":23,\"Entertainment\":24,\"News & Politics\":25,\n",
    "                \"Howto & Style\":26,\"Education\":27, \"Science & Technology\":28,\"Nonprofits & Activism\":29,\n",
    "                \"Movies\":30,\"Anime/Animation\":31,\"Action/Adventure\":32,\"Classics\":33,\"Comedy\":34,\"Documentary\":35,\n",
    "                \"Drama\":36,\"Family\":37,\"Foreign\":38,\"Horror\":39,\"Sci-Fi/Fantasy\":40,\"Thriller\":41,\"Shorts\":42,\n",
    "                \"Shows\":43,\"Trailers\":44\n",
    "                }"
   ]
  },
  {
   "cell_type": "code",
   "execution_count": 10,
   "metadata": {},
   "outputs": [
    {
     "data": {
      "text/plain": [
       "[{'id': 1, 'title': 'Film & Animation'},\n",
       " {'id': 2, 'title': 'Autos & Vehicles'},\n",
       " {'id': 10, 'title': 'Music'},\n",
       " {'id': 15, 'title': 'Pets & Animals'},\n",
       " {'id': 17, 'title': 'Sports'},\n",
       " {'id': 18, 'title': 'Short Movies'},\n",
       " {'id': 19, 'title': 'Travel & Events'},\n",
       " {'id': 20, 'title': 'Gaming'},\n",
       " {'id': 21, 'title': 'Videoblogging'},\n",
       " {'id': 22, 'title': 'People & Blogs'},\n",
       " {'id': 34, 'title': 'Comedy'},\n",
       " {'id': 24, 'title': 'Entertainment'},\n",
       " {'id': 25, 'title': 'News & Politics'},\n",
       " {'id': 26, 'title': 'Howto & Style'},\n",
       " {'id': 27, 'title': 'Education'},\n",
       " {'id': 28, 'title': 'Science & Technology'},\n",
       " {'id': 29, 'title': 'Nonprofits & Activism'},\n",
       " {'id': 30, 'title': 'Movies'},\n",
       " {'id': 31, 'title': 'Anime/Animation'},\n",
       " {'id': 32, 'title': 'Action/Adventure'},\n",
       " {'id': 33, 'title': 'Classics'},\n",
       " {'id': 35, 'title': 'Documentary'},\n",
       " {'id': 36, 'title': 'Drama'},\n",
       " {'id': 37, 'title': 'Family'},\n",
       " {'id': 38, 'title': 'Foreign'},\n",
       " {'id': 39, 'title': 'Horror'},\n",
       " {'id': 40, 'title': 'Sci-Fi/Fantasy'},\n",
       " {'id': 41, 'title': 'Thriller'},\n",
       " {'id': 42, 'title': 'Shorts'},\n",
       " {'id': 43, 'title': 'Shows'},\n",
       " {'id': 44, 'title': 'Trailers'}]"
      ]
     },
     "execution_count": 10,
     "metadata": {},
     "output_type": "execute_result"
    }
   ],
   "source": [
    "#Use List Comprehension to make dictionary accessible by id/title\n",
    "CategoryDict = [{'id': value, 'title': key} for key, value in CategoryNamesDict.items()]\n",
    "CategoryDict"
   ]
  },
  {
   "cell_type": "code",
   "execution_count": 11,
   "metadata": {},
   "outputs": [
    {
     "name": "stdout",
     "output_type": "stream",
     "text": [
      "[{'id': 24, 'title': 'Entertainment'}]\n",
      "[{'id': 24, 'title': 'Entertainment'}]\n",
      "[{'id': 17, 'title': 'Sports'}]\n",
      "[{'id': 17, 'title': 'Sports'}]\n",
      "[{'id': 25, 'title': 'News & Politics'}]\n",
      "[{'id': 24, 'title': 'Entertainment'}]\n",
      "[{'id': 10, 'title': 'Music'}]\n",
      "[{'id': 24, 'title': 'Entertainment'}]\n"
     ]
    },
    {
     "data": {
      "text/plain": [
       "['Entertainment',\n",
       " 'Entertainment',\n",
       " 'Sports',\n",
       " 'Sports',\n",
       " 'News & Politics',\n",
       " 'Entertainment',\n",
       " 'Music',\n",
       " 'Entertainment']"
      ]
     },
     "execution_count": 11,
     "metadata": {},
     "output_type": "execute_result"
    }
   ],
   "source": [
    "#Create For Loop\n",
    "CategoryNamesList = []\n",
    "\n",
    "for Category_ID in Predict:\n",
    "    MatchingCategories = [x for x in CategoryDict if x[\"id\"] == Category_ID]\n",
    "    print(MatchingCategories)\n",
    "    if MatchingCategories:\n",
    "        CategoryNamesList.append(MatchingCategories[0][\"title\"])\n",
    "        \n",
    "CategoryNamesList"
   ]
  },
  {
   "cell_type": "code",
   "execution_count": 12,
   "metadata": {
    "scrolled": true
   },
   "outputs": [],
   "source": [
    "##OLD CODE\n",
    "\n",
    "#CategoryNames = [\"Film & Animation\",\"Autos & Vehicles\",\"Music\",\n",
    "#\"Pets & Animals\",\"Sports\",\"Short Movies\",\"Travel & Events\",\"Gaming\",\"Videoblogging\",\n",
    "#\"People & Blogs\",\"Comedy\",\"Entertainment\",\"News & Politics\",\"Howto & Style\",\"Education\",\"Science & Technology\",\n",
    "#\"Nonprofits & Activism\",\"Movies\",\"Anime/Animation\",\"Action/Adventure\",\"Classics\",\n",
    "#\"Comedy\",\"Documentary\",\"Drama\",\"Family\",\"Foreign\",\"Horror\",\"Sci-Fi/Fantasy\",\"Thriller\",\"Shorts\",\"Shows\",\"Trailers\"\n",
    "#]\n",
    "#Predict [0]\n",
    "#CategoryNames[Predict[0]]\n",
    "#CategoryNamesList = []\n",
    "#for Category_ID in Predict:\n",
    "    #CategoryNamesList.append(CategoryNames[Category_ID])\n",
    "    \n",
    "#CategoryNamesList\n",
    "    #MatchingCategories = [x for x in CategoryDict if x[\"id\"] == str(Category_ID)]\n",
    "    #if MatchingCategories:\n",
    "        #CategoryNamesList.append(MatchingCategories[0][\"title\"])"
   ]
  },
  {
   "cell_type": "markdown",
   "metadata": {},
   "source": [
    "### Map values to the titles we want to predict:"
   ]
  },
  {
   "cell_type": "code",
   "execution_count": 13,
   "metadata": {},
   "outputs": [],
   "source": [
    "TitleDataFrame = []\n",
    "for i in range(0, len(Titles)):\n",
    "    TitleToCategories = {'Title': Titles[i],  'Category': CategoryNamesList[i]}\n",
    "    TitleDataFrame.append(TitleToCategories)"
   ]
  },
  {
   "cell_type": "markdown",
   "metadata": {},
   "source": [
    "### Convert the resulting Dict to a Data Frame:"
   ]
  },
  {
   "cell_type": "code",
   "execution_count": 14,
   "metadata": {},
   "outputs": [],
   "source": [
    "PredictDF = pd.DataFrame(Predict)\n",
    "TitleDF = pd.DataFrame(TitleDataFrame)\n",
    "PreFinalDF = pd.concat([PredictDF, TitleDF], axis=1)\n",
    "PreFinalDF.columns = (['Categ_ID', 'Predicted Category', 'Hypothetical Video Title'])\n",
    "FinalDF = PreFinalDF.drop(['Categ_ID'],axis=1)\n",
    "cols = FinalDF.columns.tolist()\n",
    "cols = cols[-1:] + cols[:-1]\n",
    "FinalDF= FinalDF[cols]"
   ]
  },
  {
   "cell_type": "markdown",
   "metadata": {},
   "source": [
    "# View Final Prediction Results:"
   ]
  },
  {
   "cell_type": "code",
   "execution_count": 15,
   "metadata": {},
   "outputs": [
    {
     "data": {
      "text/html": [
       "<div>\n",
       "<style scoped>\n",
       "    .dataframe tbody tr th:only-of-type {\n",
       "        vertical-align: middle;\n",
       "    }\n",
       "\n",
       "    .dataframe tbody tr th {\n",
       "        vertical-align: top;\n",
       "    }\n",
       "\n",
       "    .dataframe thead th {\n",
       "        text-align: right;\n",
       "    }\n",
       "</style>\n",
       "<table border=\"1\" class=\"dataframe\">\n",
       "  <thead>\n",
       "    <tr style=\"text-align: right;\">\n",
       "      <th></th>\n",
       "      <th>Hypothetical Video Title</th>\n",
       "      <th>Predicted Category</th>\n",
       "    </tr>\n",
       "  </thead>\n",
       "  <tbody>\n",
       "    <tr>\n",
       "      <th>0</th>\n",
       "      <td>Entertainment</td>\n",
       "      <td>Hilarious cat plays with toy</td>\n",
       "    </tr>\n",
       "    <tr>\n",
       "      <th>1</th>\n",
       "      <td>Entertainment</td>\n",
       "      <td>Best fashion looks for Spring 2018</td>\n",
       "    </tr>\n",
       "    <tr>\n",
       "      <th>2</th>\n",
       "      <td>Sports</td>\n",
       "      <td>Olympics opening ceremony highlights</td>\n",
       "    </tr>\n",
       "    <tr>\n",
       "      <th>3</th>\n",
       "      <td>Sports</td>\n",
       "      <td>Warriors basketball game versus the cavs</td>\n",
       "    </tr>\n",
       "    <tr>\n",
       "      <th>4</th>\n",
       "      <td>News &amp; Politics</td>\n",
       "      <td>CNN world news on donald trump</td>\n",
       "    </tr>\n",
       "    <tr>\n",
       "      <th>5</th>\n",
       "      <td>Entertainment</td>\n",
       "      <td>Police Chase in Hollywood</td>\n",
       "    </tr>\n",
       "    <tr>\n",
       "      <th>6</th>\n",
       "      <td>Music</td>\n",
       "      <td>Ed Sheeran - Perfect (Official Music Video)</td>\n",
       "    </tr>\n",
       "    <tr>\n",
       "      <th>7</th>\n",
       "      <td>Entertainment</td>\n",
       "      <td>how to do eyeshadow</td>\n",
       "    </tr>\n",
       "  </tbody>\n",
       "</table>\n",
       "</div>"
      ],
      "text/plain": [
       "  Hypothetical Video Title                           Predicted Category\n",
       "0            Entertainment                 Hilarious cat plays with toy\n",
       "1            Entertainment           Best fashion looks for Spring 2018\n",
       "2                   Sports         Olympics opening ceremony highlights\n",
       "3                   Sports     Warriors basketball game versus the cavs\n",
       "4          News & Politics               CNN world news on donald trump\n",
       "5            Entertainment                    Police Chase in Hollywood\n",
       "6                    Music  Ed Sheeran - Perfect (Official Music Video)\n",
       "7            Entertainment                          how to do eyeshadow"
      ]
     },
     "execution_count": 15,
     "metadata": {},
     "output_type": "execute_result"
    }
   ],
   "source": [
    "FinalDF"
   ]
  },
  {
   "cell_type": "markdown",
   "metadata": {},
   "source": [
    "## More Title Examples"
   ]
  },
  {
   "cell_type": "code",
   "execution_count": 18,
   "metadata": {},
   "outputs": [],
   "source": [
    "Titles2 = [\"Joe Biden gives White House Speech\",\n",
    "        \"How to dye your hair blonde\",\n",
    "        \"Best SuperBowl Touchdowns\",\n",
    "        \"10 Reasons Logan Paul Sucks\",\n",
    "        \"How to jump start your car\",\n",
    "        \"5 Reasons Aliens Are Real\",\n",
    "        \"Great Hotels in Italy\",\n",
    "        \"Kim Kardashian and Kanye West Divorce\",\n",
    "        \"Machine Learning Tutorial\",\n",
    "        \"Donald Trump Speaks at CPAC\",\n",
    "        \"Nomadland Official Trailer\",\n",
    "        \"BEST Hockey GOALS of ALL TIME!\"\n",
    "         ]"
   ]
  },
  {
   "cell_type": "code",
   "execution_count": 19,
   "metadata": {},
   "outputs": [
    {
     "data": {
      "text/plain": [
       "array([24, 24, 24, 24, 22, 24, 24, 24, 22, 25, 24, 24])"
      ]
     },
     "execution_count": 19,
     "metadata": {},
     "output_type": "execute_result"
    }
   ],
   "source": [
    "Titles_counts2 = vector.transform(Titles2)\n",
    "Predict = NB_Model.predict(Titles_counts2)\n",
    "Predict"
   ]
  },
  {
   "cell_type": "code",
   "execution_count": 20,
   "metadata": {},
   "outputs": [
    {
     "name": "stdout",
     "output_type": "stream",
     "text": [
      "[{'id': 24, 'title': 'Entertainment'}]\n",
      "[{'id': 24, 'title': 'Entertainment'}]\n",
      "[{'id': 24, 'title': 'Entertainment'}]\n",
      "[{'id': 24, 'title': 'Entertainment'}]\n",
      "[{'id': 22, 'title': 'People & Blogs'}]\n",
      "[{'id': 24, 'title': 'Entertainment'}]\n",
      "[{'id': 24, 'title': 'Entertainment'}]\n",
      "[{'id': 24, 'title': 'Entertainment'}]\n",
      "[{'id': 22, 'title': 'People & Blogs'}]\n",
      "[{'id': 25, 'title': 'News & Politics'}]\n",
      "[{'id': 24, 'title': 'Entertainment'}]\n",
      "[{'id': 24, 'title': 'Entertainment'}]\n"
     ]
    },
    {
     "data": {
      "text/plain": [
       "['Entertainment',\n",
       " 'Entertainment',\n",
       " 'Entertainment',\n",
       " 'Entertainment',\n",
       " 'People & Blogs',\n",
       " 'Entertainment',\n",
       " 'Entertainment',\n",
       " 'Entertainment',\n",
       " 'People & Blogs',\n",
       " 'News & Politics',\n",
       " 'Entertainment',\n",
       " 'Entertainment']"
      ]
     },
     "execution_count": 20,
     "metadata": {},
     "output_type": "execute_result"
    }
   ],
   "source": [
    "CategoryNamesList2 = []\n",
    "\n",
    "for Category_ID in Predict:\n",
    "    MatchingCategories = [x for x in CategoryDict if x[\"id\"] == Category_ID]\n",
    "    print(MatchingCategories)\n",
    "    if MatchingCategories:\n",
    "        CategoryNamesList2.append(MatchingCategories[0][\"title\"])\n",
    "        \n",
    "CategoryNamesList2"
   ]
  },
  {
   "cell_type": "code",
   "execution_count": 21,
   "metadata": {},
   "outputs": [],
   "source": [
    "TitleDataFrame = []\n",
    "for i in range(0, len(Titles2)):\n",
    "    TitleToCategories = {'Title': Titles2[i],  'Category': CategoryNamesList2[i]}\n",
    "    TitleDataFrame.append(TitleToCategories)"
   ]
  },
  {
   "cell_type": "code",
   "execution_count": 22,
   "metadata": {},
   "outputs": [],
   "source": [
    "PredictDF = pd.DataFrame(Predict)\n",
    "TitleDF = pd.DataFrame(TitleDataFrame)\n",
    "PreFinalDF = pd.concat([PredictDF, TitleDF], axis=1)\n",
    "PreFinalDF.columns = (['Categ_ID', 'Predicted Category', 'Hypothetical Video Title'])\n",
    "FinalDF = PreFinalDF.drop(['Categ_ID'],axis=1)\n",
    "cols = FinalDF.columns.tolist()\n",
    "cols = cols[-1:] + cols[:-1]\n",
    "FinalDF= FinalDF[cols]"
   ]
  },
  {
   "cell_type": "code",
   "execution_count": 23,
   "metadata": {},
   "outputs": [
    {
     "data": {
      "text/html": [
       "<div>\n",
       "<style scoped>\n",
       "    .dataframe tbody tr th:only-of-type {\n",
       "        vertical-align: middle;\n",
       "    }\n",
       "\n",
       "    .dataframe tbody tr th {\n",
       "        vertical-align: top;\n",
       "    }\n",
       "\n",
       "    .dataframe thead th {\n",
       "        text-align: right;\n",
       "    }\n",
       "</style>\n",
       "<table border=\"1\" class=\"dataframe\">\n",
       "  <thead>\n",
       "    <tr style=\"text-align: right;\">\n",
       "      <th></th>\n",
       "      <th>Hypothetical Video Title</th>\n",
       "      <th>Predicted Category</th>\n",
       "    </tr>\n",
       "  </thead>\n",
       "  <tbody>\n",
       "    <tr>\n",
       "      <th>0</th>\n",
       "      <td>Entertainment</td>\n",
       "      <td>Joe Biden gives White House Speech</td>\n",
       "    </tr>\n",
       "    <tr>\n",
       "      <th>1</th>\n",
       "      <td>Entertainment</td>\n",
       "      <td>How to dye your hair blonde</td>\n",
       "    </tr>\n",
       "    <tr>\n",
       "      <th>2</th>\n",
       "      <td>Entertainment</td>\n",
       "      <td>Best SuperBowl Touchdowns</td>\n",
       "    </tr>\n",
       "    <tr>\n",
       "      <th>3</th>\n",
       "      <td>Entertainment</td>\n",
       "      <td>10 Reasons Logan Paul Sucks</td>\n",
       "    </tr>\n",
       "    <tr>\n",
       "      <th>4</th>\n",
       "      <td>People &amp; Blogs</td>\n",
       "      <td>How to jump start your car</td>\n",
       "    </tr>\n",
       "    <tr>\n",
       "      <th>5</th>\n",
       "      <td>Entertainment</td>\n",
       "      <td>5 Reasons Aliens Are Real</td>\n",
       "    </tr>\n",
       "    <tr>\n",
       "      <th>6</th>\n",
       "      <td>Entertainment</td>\n",
       "      <td>Great Hotels in Italy</td>\n",
       "    </tr>\n",
       "    <tr>\n",
       "      <th>7</th>\n",
       "      <td>Entertainment</td>\n",
       "      <td>Kim Kardashian and Kanye West Divorce</td>\n",
       "    </tr>\n",
       "    <tr>\n",
       "      <th>8</th>\n",
       "      <td>People &amp; Blogs</td>\n",
       "      <td>Machine Learning Tutorial</td>\n",
       "    </tr>\n",
       "    <tr>\n",
       "      <th>9</th>\n",
       "      <td>News &amp; Politics</td>\n",
       "      <td>Donald Trump Speaks at CPAC</td>\n",
       "    </tr>\n",
       "    <tr>\n",
       "      <th>10</th>\n",
       "      <td>Entertainment</td>\n",
       "      <td>Nomadland Official Trailer</td>\n",
       "    </tr>\n",
       "    <tr>\n",
       "      <th>11</th>\n",
       "      <td>Entertainment</td>\n",
       "      <td>BEST Hockey GOALS of ALL TIME!</td>\n",
       "    </tr>\n",
       "  </tbody>\n",
       "</table>\n",
       "</div>"
      ],
      "text/plain": [
       "   Hypothetical Video Title                     Predicted Category\n",
       "0             Entertainment     Joe Biden gives White House Speech\n",
       "1             Entertainment            How to dye your hair blonde\n",
       "2             Entertainment              Best SuperBowl Touchdowns\n",
       "3             Entertainment            10 Reasons Logan Paul Sucks\n",
       "4            People & Blogs             How to jump start your car\n",
       "5             Entertainment              5 Reasons Aliens Are Real\n",
       "6             Entertainment                  Great Hotels in Italy\n",
       "7             Entertainment  Kim Kardashian and Kanye West Divorce\n",
       "8            People & Blogs              Machine Learning Tutorial\n",
       "9           News & Politics            Donald Trump Speaks at CPAC\n",
       "10            Entertainment             Nomadland Official Trailer\n",
       "11            Entertainment         BEST Hockey GOALS of ALL TIME!"
      ]
     },
     "execution_count": 23,
     "metadata": {},
     "output_type": "execute_result"
    }
   ],
   "source": [
    "#Second Titles DF\n",
    "FinalDF"
   ]
  },
  {
   "cell_type": "code",
   "execution_count": null,
   "metadata": {},
   "outputs": [],
   "source": []
  }
 ],
 "metadata": {
  "kernelspec": {
   "display_name": "Python [conda env:PythonData] *",
   "language": "python",
   "name": "conda-env-PythonData-py"
  },
  "language_info": {
   "codemirror_mode": {
    "name": "ipython",
    "version": 3
   },
   "file_extension": ".py",
   "mimetype": "text/x-python",
   "name": "python",
   "nbconvert_exporter": "python",
   "pygments_lexer": "ipython3",
   "version": "3.8.5"
  }
 },
 "nbformat": 4,
 "nbformat_minor": 2
}
